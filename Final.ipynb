{
 "cells": [
  {
   "cell_type": "markdown",
   "metadata": {},
   "source": [
    "# Akademi (Flatiron School) — Data Science & AI, Cohorte 2025"
   ]
  },
  {
   "cell_type": "markdown",
   "metadata": {},
   "source": [
    "# First Project-Phase 1\n",
    "\n",
    "**Student Name**: Micka LOUIS  \n",
    "**Student Pace**: Self-paced  \n",
    "**Submission Deadline**: June 8, 2025  \n",
    "**Instructors' Names**: Wedter JEROME & Geovany Batista Polo LAGUERRE  \n",
    "**Blog Post URL**: https://github.com/Micka-Louis/dsc-project-phase-1.git  "
   ]
  },
  {
   "cell_type": "markdown",
   "metadata": {},
   "source": [
    "# **Project Title**"
   ]
  },
  {
   "cell_type": "markdown",
   "metadata": {},
   "source": [
    "# US Aviation Accidents Analysis(1962-2023)\n",
    "![Cover](images/image1.webp)"
   ]
  },
  {
   "cell_type": "markdown",
   "metadata": {},
   "source": [
    "# Overview  \n",
    "\n",
    "This notebook presents a structured analysis of aviation accident data. It follows the CRISP-DM methodology, offering insight into understanding and preparing data for decision-making in aviation safety.\n",
    "\n"
   ]
  },
  {
   "cell_type": "markdown",
   "metadata": {},
   "source": [
    "# Business Understanding  \n",
    "\n",
    "![Business](images/image3.jpg)\n",
    "Aviation safety is essential to public trust and operational efficiency. Understanding past accidents helps stakeholders identify systemic issues and implement safety improvements."
   ]
  },
  {
   "cell_type": "markdown",
   "metadata": {},
   "source": [
    "# Business Problem\n",
    "\n",
    "![Cover](images/image2.avif)\n",
    "The company is planning to expand into new industries as part of a broader diversification strategy. One of the targeted areas is aviation — specifically, the purchase and operation of aircraft for commercial and private services. However, the company currently lacks knowledge about the aviation industry, particularly regarding the safety and risk profiles of different aircraft.\n",
    "\n",
    "The objective is to identify which aircraft models present the lowest operational risk, using historical data on aircraft incidents and accidents. The goal is to provide data-driven insights that will guide the head of the new aviation division in selecting the safest and most reliable aircraft to purchase.\n",
    "\n",
    "To support this effort, aviation safety data will be sourced, explored, and analyzed, with the results translated into actionable business recommendations that reduce risk and support informed decision-making in this new venture."
   ]
  },
  {
   "cell_type": "markdown",
   "metadata": {},
   "source": [
    "# Data Understanding  \n",
    "\n",
    "We are using a dataset of aviation accidents with attributes such as weather, aircraft model, number of injuries, and flight phase. This helps in assessing causes and risk zones."
   ]
  },
  {
   "cell_type": "code",
   "execution_count": 1,
   "metadata": {},
   "outputs": [],
   "source": [
    "#Importing Required Libraries\n",
    "\n",
    "import pandas as pd\n",
    "import numpy as np\n",
    "import matplotlib.pyplot as plt\n",
    "import seaborn as sns\n",
    "import seaborn as sb"
   ]
  },
  {
   "cell_type": "code",
   "execution_count": 2,
   "metadata": {
    "collapsed": true
   },
   "outputs": [
    {
     "data": {
      "text/html": [
       "<div>\n",
       "<style scoped>\n",
       "    .dataframe tbody tr th:only-of-type {\n",
       "        vertical-align: middle;\n",
       "    }\n",
       "\n",
       "    .dataframe tbody tr th {\n",
       "        vertical-align: top;\n",
       "    }\n",
       "\n",
       "    .dataframe thead th {\n",
       "        text-align: right;\n",
       "    }\n",
       "</style>\n",
       "<table border=\"1\" class=\"dataframe\">\n",
       "  <thead>\n",
       "    <tr style=\"text-align: right;\">\n",
       "      <th></th>\n",
       "      <th>Event.Id</th>\n",
       "      <th>Investigation.Type</th>\n",
       "      <th>Accident.Number</th>\n",
       "      <th>Event.Date</th>\n",
       "      <th>Location</th>\n",
       "      <th>Country</th>\n",
       "      <th>Latitude</th>\n",
       "      <th>Longitude</th>\n",
       "      <th>Airport.Code</th>\n",
       "      <th>Airport.Name</th>\n",
       "      <th>...</th>\n",
       "      <th>Purpose.of.flight</th>\n",
       "      <th>Air.carrier</th>\n",
       "      <th>Total.Fatal.Injuries</th>\n",
       "      <th>Total.Serious.Injuries</th>\n",
       "      <th>Total.Minor.Injuries</th>\n",
       "      <th>Total.Uninjured</th>\n",
       "      <th>Weather.Condition</th>\n",
       "      <th>Broad.phase.of.flight</th>\n",
       "      <th>Report.Status</th>\n",
       "      <th>Publication.Date</th>\n",
       "    </tr>\n",
       "  </thead>\n",
       "  <tbody>\n",
       "    <tr>\n",
       "      <th>0</th>\n",
       "      <td>20001218X45444</td>\n",
       "      <td>Accident</td>\n",
       "      <td>SEA87LA080</td>\n",
       "      <td>1948-10-24</td>\n",
       "      <td>MOOSE CREEK, ID</td>\n",
       "      <td>United States</td>\n",
       "      <td>NaN</td>\n",
       "      <td>NaN</td>\n",
       "      <td>NaN</td>\n",
       "      <td>NaN</td>\n",
       "      <td>...</td>\n",
       "      <td>Personal</td>\n",
       "      <td>NaN</td>\n",
       "      <td>2.0</td>\n",
       "      <td>0.0</td>\n",
       "      <td>0.0</td>\n",
       "      <td>0.0</td>\n",
       "      <td>UNK</td>\n",
       "      <td>Cruise</td>\n",
       "      <td>Probable Cause</td>\n",
       "      <td>NaN</td>\n",
       "    </tr>\n",
       "    <tr>\n",
       "      <th>1</th>\n",
       "      <td>20001218X45447</td>\n",
       "      <td>Accident</td>\n",
       "      <td>LAX94LA336</td>\n",
       "      <td>1962-07-19</td>\n",
       "      <td>BRIDGEPORT, CA</td>\n",
       "      <td>United States</td>\n",
       "      <td>NaN</td>\n",
       "      <td>NaN</td>\n",
       "      <td>NaN</td>\n",
       "      <td>NaN</td>\n",
       "      <td>...</td>\n",
       "      <td>Personal</td>\n",
       "      <td>NaN</td>\n",
       "      <td>4.0</td>\n",
       "      <td>0.0</td>\n",
       "      <td>0.0</td>\n",
       "      <td>0.0</td>\n",
       "      <td>UNK</td>\n",
       "      <td>Unknown</td>\n",
       "      <td>Probable Cause</td>\n",
       "      <td>19-09-1996</td>\n",
       "    </tr>\n",
       "    <tr>\n",
       "      <th>2</th>\n",
       "      <td>20061025X01555</td>\n",
       "      <td>Accident</td>\n",
       "      <td>NYC07LA005</td>\n",
       "      <td>1974-08-30</td>\n",
       "      <td>Saltville, VA</td>\n",
       "      <td>United States</td>\n",
       "      <td>36.922223</td>\n",
       "      <td>-81.878056</td>\n",
       "      <td>NaN</td>\n",
       "      <td>NaN</td>\n",
       "      <td>...</td>\n",
       "      <td>Personal</td>\n",
       "      <td>NaN</td>\n",
       "      <td>3.0</td>\n",
       "      <td>NaN</td>\n",
       "      <td>NaN</td>\n",
       "      <td>NaN</td>\n",
       "      <td>IMC</td>\n",
       "      <td>Cruise</td>\n",
       "      <td>Probable Cause</td>\n",
       "      <td>26-02-2007</td>\n",
       "    </tr>\n",
       "    <tr>\n",
       "      <th>3</th>\n",
       "      <td>20001218X45448</td>\n",
       "      <td>Accident</td>\n",
       "      <td>LAX96LA321</td>\n",
       "      <td>1977-06-19</td>\n",
       "      <td>EUREKA, CA</td>\n",
       "      <td>United States</td>\n",
       "      <td>NaN</td>\n",
       "      <td>NaN</td>\n",
       "      <td>NaN</td>\n",
       "      <td>NaN</td>\n",
       "      <td>...</td>\n",
       "      <td>Personal</td>\n",
       "      <td>NaN</td>\n",
       "      <td>2.0</td>\n",
       "      <td>0.0</td>\n",
       "      <td>0.0</td>\n",
       "      <td>0.0</td>\n",
       "      <td>IMC</td>\n",
       "      <td>Cruise</td>\n",
       "      <td>Probable Cause</td>\n",
       "      <td>12-09-2000</td>\n",
       "    </tr>\n",
       "    <tr>\n",
       "      <th>4</th>\n",
       "      <td>20041105X01764</td>\n",
       "      <td>Accident</td>\n",
       "      <td>CHI79FA064</td>\n",
       "      <td>1979-08-02</td>\n",
       "      <td>Canton, OH</td>\n",
       "      <td>United States</td>\n",
       "      <td>NaN</td>\n",
       "      <td>NaN</td>\n",
       "      <td>NaN</td>\n",
       "      <td>NaN</td>\n",
       "      <td>...</td>\n",
       "      <td>Personal</td>\n",
       "      <td>NaN</td>\n",
       "      <td>1.0</td>\n",
       "      <td>2.0</td>\n",
       "      <td>NaN</td>\n",
       "      <td>0.0</td>\n",
       "      <td>VMC</td>\n",
       "      <td>Approach</td>\n",
       "      <td>Probable Cause</td>\n",
       "      <td>16-04-1980</td>\n",
       "    </tr>\n",
       "  </tbody>\n",
       "</table>\n",
       "<p>5 rows × 31 columns</p>\n",
       "</div>"
      ],
      "text/plain": [
       "         Event.Id Investigation.Type Accident.Number  Event.Date  \\\n",
       "0  20001218X45444           Accident      SEA87LA080  1948-10-24   \n",
       "1  20001218X45447           Accident      LAX94LA336  1962-07-19   \n",
       "2  20061025X01555           Accident      NYC07LA005  1974-08-30   \n",
       "3  20001218X45448           Accident      LAX96LA321  1977-06-19   \n",
       "4  20041105X01764           Accident      CHI79FA064  1979-08-02   \n",
       "\n",
       "          Location        Country   Latitude   Longitude Airport.Code  \\\n",
       "0  MOOSE CREEK, ID  United States        NaN         NaN          NaN   \n",
       "1   BRIDGEPORT, CA  United States        NaN         NaN          NaN   \n",
       "2    Saltville, VA  United States  36.922223  -81.878056          NaN   \n",
       "3       EUREKA, CA  United States        NaN         NaN          NaN   \n",
       "4       Canton, OH  United States        NaN         NaN          NaN   \n",
       "\n",
       "  Airport.Name  ... Purpose.of.flight Air.carrier Total.Fatal.Injuries  \\\n",
       "0          NaN  ...          Personal         NaN                  2.0   \n",
       "1          NaN  ...          Personal         NaN                  4.0   \n",
       "2          NaN  ...          Personal         NaN                  3.0   \n",
       "3          NaN  ...          Personal         NaN                  2.0   \n",
       "4          NaN  ...          Personal         NaN                  1.0   \n",
       "\n",
       "  Total.Serious.Injuries Total.Minor.Injuries Total.Uninjured  \\\n",
       "0                    0.0                  0.0             0.0   \n",
       "1                    0.0                  0.0             0.0   \n",
       "2                    NaN                  NaN             NaN   \n",
       "3                    0.0                  0.0             0.0   \n",
       "4                    2.0                  NaN             0.0   \n",
       "\n",
       "  Weather.Condition  Broad.phase.of.flight   Report.Status Publication.Date  \n",
       "0               UNK                 Cruise  Probable Cause              NaN  \n",
       "1               UNK                Unknown  Probable Cause       19-09-1996  \n",
       "2               IMC                 Cruise  Probable Cause       26-02-2007  \n",
       "3               IMC                 Cruise  Probable Cause       12-09-2000  \n",
       "4               VMC               Approach  Probable Cause       16-04-1980  \n",
       "\n",
       "[5 rows x 31 columns]"
      ]
     },
     "execution_count": 2,
     "metadata": {},
     "output_type": "execute_result"
    }
   ],
   "source": [
    "# Load the dataset AviationData\n",
    "df = pd.read_csv('Data/AviationData.csv', encoding='ISO-8859-1', low_memory=False)\n",
    "# Show the first 5 rows\n",
    "df.head()"
   ]
  },
  {
   "cell_type": "code",
   "execution_count": 3,
   "metadata": {
    "collapsed": true
   },
   "outputs": [
    {
     "data": {
      "text/html": [
       "<div>\n",
       "<style scoped>\n",
       "    .dataframe tbody tr th:only-of-type {\n",
       "        vertical-align: middle;\n",
       "    }\n",
       "\n",
       "    .dataframe tbody tr th {\n",
       "        vertical-align: top;\n",
       "    }\n",
       "\n",
       "    .dataframe thead th {\n",
       "        text-align: right;\n",
       "    }\n",
       "</style>\n",
       "<table border=\"1\" class=\"dataframe\">\n",
       "  <thead>\n",
       "    <tr style=\"text-align: right;\">\n",
       "      <th></th>\n",
       "      <th>US_State</th>\n",
       "      <th>Abbreviation</th>\n",
       "    </tr>\n",
       "  </thead>\n",
       "  <tbody>\n",
       "    <tr>\n",
       "      <th>0</th>\n",
       "      <td>Alabama</td>\n",
       "      <td>AL</td>\n",
       "    </tr>\n",
       "    <tr>\n",
       "      <th>1</th>\n",
       "      <td>Alaska</td>\n",
       "      <td>AK</td>\n",
       "    </tr>\n",
       "    <tr>\n",
       "      <th>2</th>\n",
       "      <td>Arizona</td>\n",
       "      <td>AZ</td>\n",
       "    </tr>\n",
       "    <tr>\n",
       "      <th>3</th>\n",
       "      <td>Arkansas</td>\n",
       "      <td>AR</td>\n",
       "    </tr>\n",
       "    <tr>\n",
       "      <th>4</th>\n",
       "      <td>California</td>\n",
       "      <td>CA</td>\n",
       "    </tr>\n",
       "  </tbody>\n",
       "</table>\n",
       "</div>"
      ],
      "text/plain": [
       "     US_State Abbreviation\n",
       "0     Alabama           AL\n",
       "1      Alaska           AK\n",
       "2     Arizona           AZ\n",
       "3    Arkansas           AR\n",
       "4  California           CA"
      ]
     },
     "execution_count": 3,
     "metadata": {},
     "output_type": "execute_result"
    }
   ],
   "source": [
    "# Load the dataset USState_Codes\n",
    "\n",
    "df1=pd.read_csv('Data/USState_Codes.csv')\n",
    "df1.head()"
   ]
  },
  {
   "cell_type": "code",
   "execution_count": 3,
   "metadata": {
    "collapsed": true
   },
   "outputs": [
    {
     "name": "stdout",
     "output_type": "stream",
     "text": [
      "Shape of the DataFrame (rows, columns): (88889, 31)\n",
      "Column names: Index(['Event.Id', 'Investigation.Type', 'Accident.Number', 'Event.Date',\n",
      "       'Location', 'Country', 'Latitude', 'Longitude', 'Airport.Code',\n",
      "       'Airport.Name', 'Injury.Severity', 'Aircraft.damage',\n",
      "       'Aircraft.Category', 'Registration.Number', 'Make', 'Model',\n",
      "       'Amateur.Built', 'Number.of.Engines', 'Engine.Type', 'FAR.Description',\n",
      "       'Schedule', 'Purpose.of.flight', 'Air.carrier', 'Total.Fatal.Injuries',\n",
      "       'Total.Serious.Injuries', 'Total.Minor.Injuries', 'Total.Uninjured',\n",
      "       'Weather.Condition', 'Broad.phase.of.flight', 'Report.Status',\n",
      "       'Publication.Date'],\n",
      "      dtype='object')\n",
      "DataFrame info:\n",
      "<class 'pandas.core.frame.DataFrame'>\n",
      "RangeIndex: 88889 entries, 0 to 88888\n",
      "Data columns (total 31 columns):\n",
      " #   Column                  Non-Null Count  Dtype  \n",
      "---  ------                  --------------  -----  \n",
      " 0   Event.Id                88889 non-null  object \n",
      " 1   Investigation.Type      88889 non-null  object \n",
      " 2   Accident.Number         88889 non-null  object \n",
      " 3   Event.Date              88889 non-null  object \n",
      " 4   Location                88837 non-null  object \n",
      " 5   Country                 88663 non-null  object \n",
      " 6   Latitude                34382 non-null  object \n",
      " 7   Longitude               34373 non-null  object \n",
      " 8   Airport.Code            50249 non-null  object \n",
      " 9   Airport.Name            52790 non-null  object \n",
      " 10  Injury.Severity         87889 non-null  object \n",
      " 11  Aircraft.damage         85695 non-null  object \n",
      " 12  Aircraft.Category       32287 non-null  object \n",
      " 13  Registration.Number     87572 non-null  object \n",
      " 14  Make                    88826 non-null  object \n",
      " 15  Model                   88797 non-null  object \n",
      " 16  Amateur.Built           88787 non-null  object \n",
      " 17  Number.of.Engines       82805 non-null  float64\n",
      " 18  Engine.Type             81812 non-null  object \n",
      " 19  FAR.Description         32023 non-null  object \n",
      " 20  Schedule                12582 non-null  object \n",
      " 21  Purpose.of.flight       82697 non-null  object \n",
      " 22  Air.carrier             16648 non-null  object \n",
      " 23  Total.Fatal.Injuries    77488 non-null  float64\n",
      " 24  Total.Serious.Injuries  76379 non-null  float64\n",
      " 25  Total.Minor.Injuries    76956 non-null  float64\n",
      " 26  Total.Uninjured         82977 non-null  float64\n",
      " 27  Weather.Condition       84397 non-null  object \n",
      " 28  Broad.phase.of.flight   61724 non-null  object \n",
      " 29  Report.Status           82508 non-null  object \n",
      " 30  Publication.Date        75118 non-null  object \n",
      "dtypes: float64(5), object(26)\n",
      "memory usage: 21.0+ MB\n",
      "None\n"
     ]
    }
   ],
   "source": [
    "# Display the shape of the DataFrame, i.e., number of rows and columns\n",
    "print(\"Shape of the DataFrame (rows, columns):\", df.shape)\n",
    "\n",
    "# Display the column names of the DataFrame\n",
    "print(\"Column names:\", df.columns)\n",
    "\n",
    "# Display summary information about the DataFrame (column types, non-null counts, memory usage)\n",
    "print(\"DataFrame info:\")\n",
    "print(df.info())"
   ]
  },
  {
   "cell_type": "code",
   "execution_count": null,
   "metadata": {},
   "outputs": [],
   "source": [
    "df['Country'].value_counts().head()"
   ]
  },
  {
   "cell_type": "code",
   "execution_count": null,
   "metadata": {},
   "outputs": [],
   "source": [
    "df['Investigation.Type'].value_counts()"
   ]
  },
  {
   "cell_type": "code",
   "execution_count": null,
   "metadata": {},
   "outputs": [],
   "source": [
    "# Check for duplicate rows in the dataset\n",
    "duplicates = df.duplicated()\n",
    "print(f\"Number of duplicate rows: {duplicates.sum()}\")\n"
   ]
  },
  {
   "cell_type": "markdown",
   "metadata": {},
   "source": [
    "# Data Understanding Conclusion\n",
    "From the initial exploration of the dataset, we observed the following:\n",
    "\n",
    "The vast majority of the records come from the United States, which is expected since the data source is the NTSB (National Transportation Safety Board).\n",
    "The Investigation.Type column indicates that the dataset includes different types of events. However, since our focus is on analyzing aircraft accidents, we will filter the dataset to include only records labeled as \"Accident\".\n",
    "As a result, the dataset will be narrowed down to only Accidents that occurred in the United States."
   ]
  },
  {
   "cell_type": "markdown",
   "metadata": {},
   "source": [
    "# Data Preparation"
   ]
  },
  {
   "cell_type": "markdown",
   "metadata": {},
   "source": [
    "🧹 1. Data Cleaning  \n",
    "We'll: \n",
    "\n",
    "- Keep relevant columns only  \n",
    "- Handle missing values  \n",
    "- Filter the dataset  \n",
    "- Cleaning of Data"
   ]
  },
  {
   "cell_type": "markdown",
   "metadata": {},
   "source": [
    "**Keep relevant columns only**  \n",
    "\n",
    "To simplify the analysis and improve data readability, we select only the relevant columns that provide significant value for the study."
   ]
  },
  {
   "cell_type": "code",
   "execution_count": 4,
   "metadata": {
    "collapsed": true
   },
   "outputs": [
    {
     "data": {
      "text/html": [
       "<div>\n",
       "<style scoped>\n",
       "    .dataframe tbody tr th:only-of-type {\n",
       "        vertical-align: middle;\n",
       "    }\n",
       "\n",
       "    .dataframe tbody tr th {\n",
       "        vertical-align: top;\n",
       "    }\n",
       "\n",
       "    .dataframe thead th {\n",
       "        text-align: right;\n",
       "    }\n",
       "</style>\n",
       "<table border=\"1\" class=\"dataframe\">\n",
       "  <thead>\n",
       "    <tr style=\"text-align: right;\">\n",
       "      <th></th>\n",
       "      <th>Investigation.Type</th>\n",
       "      <th>Event.Date</th>\n",
       "      <th>Location</th>\n",
       "      <th>Country</th>\n",
       "      <th>Aircraft.damage</th>\n",
       "      <th>Make</th>\n",
       "      <th>Model</th>\n",
       "      <th>Amateur.Built</th>\n",
       "      <th>Engine.Type</th>\n",
       "      <th>Purpose.of.flight</th>\n",
       "      <th>Total.Fatal.Injuries</th>\n",
       "      <th>Total.Serious.Injuries</th>\n",
       "      <th>Total.Minor.Injuries</th>\n",
       "      <th>Total.Uninjured</th>\n",
       "      <th>Weather.Condition</th>\n",
       "      <th>Broad.phase.of.flight</th>\n",
       "    </tr>\n",
       "  </thead>\n",
       "  <tbody>\n",
       "    <tr>\n",
       "      <th>0</th>\n",
       "      <td>Accident</td>\n",
       "      <td>1948-10-24</td>\n",
       "      <td>MOOSE CREEK, ID</td>\n",
       "      <td>United States</td>\n",
       "      <td>Destroyed</td>\n",
       "      <td>Stinson</td>\n",
       "      <td>108-3</td>\n",
       "      <td>No</td>\n",
       "      <td>Reciprocating</td>\n",
       "      <td>Personal</td>\n",
       "      <td>2.0</td>\n",
       "      <td>0.0</td>\n",
       "      <td>0.0</td>\n",
       "      <td>0.0</td>\n",
       "      <td>UNK</td>\n",
       "      <td>Cruise</td>\n",
       "    </tr>\n",
       "    <tr>\n",
       "      <th>1</th>\n",
       "      <td>Accident</td>\n",
       "      <td>1962-07-19</td>\n",
       "      <td>BRIDGEPORT, CA</td>\n",
       "      <td>United States</td>\n",
       "      <td>Destroyed</td>\n",
       "      <td>Piper</td>\n",
       "      <td>PA24-180</td>\n",
       "      <td>No</td>\n",
       "      <td>Reciprocating</td>\n",
       "      <td>Personal</td>\n",
       "      <td>4.0</td>\n",
       "      <td>0.0</td>\n",
       "      <td>0.0</td>\n",
       "      <td>0.0</td>\n",
       "      <td>UNK</td>\n",
       "      <td>Unknown</td>\n",
       "    </tr>\n",
       "    <tr>\n",
       "      <th>2</th>\n",
       "      <td>Accident</td>\n",
       "      <td>1974-08-30</td>\n",
       "      <td>Saltville, VA</td>\n",
       "      <td>United States</td>\n",
       "      <td>Destroyed</td>\n",
       "      <td>Cessna</td>\n",
       "      <td>172M</td>\n",
       "      <td>No</td>\n",
       "      <td>Reciprocating</td>\n",
       "      <td>Personal</td>\n",
       "      <td>3.0</td>\n",
       "      <td>NaN</td>\n",
       "      <td>NaN</td>\n",
       "      <td>NaN</td>\n",
       "      <td>IMC</td>\n",
       "      <td>Cruise</td>\n",
       "    </tr>\n",
       "    <tr>\n",
       "      <th>3</th>\n",
       "      <td>Accident</td>\n",
       "      <td>1977-06-19</td>\n",
       "      <td>EUREKA, CA</td>\n",
       "      <td>United States</td>\n",
       "      <td>Destroyed</td>\n",
       "      <td>Rockwell</td>\n",
       "      <td>112</td>\n",
       "      <td>No</td>\n",
       "      <td>Reciprocating</td>\n",
       "      <td>Personal</td>\n",
       "      <td>2.0</td>\n",
       "      <td>0.0</td>\n",
       "      <td>0.0</td>\n",
       "      <td>0.0</td>\n",
       "      <td>IMC</td>\n",
       "      <td>Cruise</td>\n",
       "    </tr>\n",
       "    <tr>\n",
       "      <th>4</th>\n",
       "      <td>Accident</td>\n",
       "      <td>1979-08-02</td>\n",
       "      <td>Canton, OH</td>\n",
       "      <td>United States</td>\n",
       "      <td>Destroyed</td>\n",
       "      <td>Cessna</td>\n",
       "      <td>501</td>\n",
       "      <td>No</td>\n",
       "      <td>NaN</td>\n",
       "      <td>Personal</td>\n",
       "      <td>1.0</td>\n",
       "      <td>2.0</td>\n",
       "      <td>NaN</td>\n",
       "      <td>0.0</td>\n",
       "      <td>VMC</td>\n",
       "      <td>Approach</td>\n",
       "    </tr>\n",
       "    <tr>\n",
       "      <th>...</th>\n",
       "      <td>...</td>\n",
       "      <td>...</td>\n",
       "      <td>...</td>\n",
       "      <td>...</td>\n",
       "      <td>...</td>\n",
       "      <td>...</td>\n",
       "      <td>...</td>\n",
       "      <td>...</td>\n",
       "      <td>...</td>\n",
       "      <td>...</td>\n",
       "      <td>...</td>\n",
       "      <td>...</td>\n",
       "      <td>...</td>\n",
       "      <td>...</td>\n",
       "      <td>...</td>\n",
       "      <td>...</td>\n",
       "    </tr>\n",
       "    <tr>\n",
       "      <th>88884</th>\n",
       "      <td>Accident</td>\n",
       "      <td>2022-12-26</td>\n",
       "      <td>Annapolis, MD</td>\n",
       "      <td>United States</td>\n",
       "      <td>NaN</td>\n",
       "      <td>PIPER</td>\n",
       "      <td>PA-28-151</td>\n",
       "      <td>No</td>\n",
       "      <td>NaN</td>\n",
       "      <td>Personal</td>\n",
       "      <td>0.0</td>\n",
       "      <td>1.0</td>\n",
       "      <td>0.0</td>\n",
       "      <td>0.0</td>\n",
       "      <td>NaN</td>\n",
       "      <td>NaN</td>\n",
       "    </tr>\n",
       "    <tr>\n",
       "      <th>88885</th>\n",
       "      <td>Accident</td>\n",
       "      <td>2022-12-26</td>\n",
       "      <td>Hampton, NH</td>\n",
       "      <td>United States</td>\n",
       "      <td>NaN</td>\n",
       "      <td>BELLANCA</td>\n",
       "      <td>7ECA</td>\n",
       "      <td>No</td>\n",
       "      <td>NaN</td>\n",
       "      <td>NaN</td>\n",
       "      <td>0.0</td>\n",
       "      <td>0.0</td>\n",
       "      <td>0.0</td>\n",
       "      <td>0.0</td>\n",
       "      <td>NaN</td>\n",
       "      <td>NaN</td>\n",
       "    </tr>\n",
       "    <tr>\n",
       "      <th>88886</th>\n",
       "      <td>Accident</td>\n",
       "      <td>2022-12-26</td>\n",
       "      <td>Payson, AZ</td>\n",
       "      <td>United States</td>\n",
       "      <td>Substantial</td>\n",
       "      <td>AMERICAN CHAMPION AIRCRAFT</td>\n",
       "      <td>8GCBC</td>\n",
       "      <td>No</td>\n",
       "      <td>NaN</td>\n",
       "      <td>Personal</td>\n",
       "      <td>0.0</td>\n",
       "      <td>0.0</td>\n",
       "      <td>0.0</td>\n",
       "      <td>1.0</td>\n",
       "      <td>VMC</td>\n",
       "      <td>NaN</td>\n",
       "    </tr>\n",
       "    <tr>\n",
       "      <th>88887</th>\n",
       "      <td>Accident</td>\n",
       "      <td>2022-12-26</td>\n",
       "      <td>Morgan, UT</td>\n",
       "      <td>United States</td>\n",
       "      <td>NaN</td>\n",
       "      <td>CESSNA</td>\n",
       "      <td>210N</td>\n",
       "      <td>No</td>\n",
       "      <td>NaN</td>\n",
       "      <td>Personal</td>\n",
       "      <td>0.0</td>\n",
       "      <td>0.0</td>\n",
       "      <td>0.0</td>\n",
       "      <td>0.0</td>\n",
       "      <td>NaN</td>\n",
       "      <td>NaN</td>\n",
       "    </tr>\n",
       "    <tr>\n",
       "      <th>88888</th>\n",
       "      <td>Accident</td>\n",
       "      <td>2022-12-29</td>\n",
       "      <td>Athens, GA</td>\n",
       "      <td>United States</td>\n",
       "      <td>NaN</td>\n",
       "      <td>PIPER</td>\n",
       "      <td>PA-24-260</td>\n",
       "      <td>No</td>\n",
       "      <td>NaN</td>\n",
       "      <td>Personal</td>\n",
       "      <td>0.0</td>\n",
       "      <td>1.0</td>\n",
       "      <td>0.0</td>\n",
       "      <td>1.0</td>\n",
       "      <td>NaN</td>\n",
       "      <td>NaN</td>\n",
       "    </tr>\n",
       "  </tbody>\n",
       "</table>\n",
       "<p>88889 rows × 16 columns</p>\n",
       "</div>"
      ],
      "text/plain": [
       "      Investigation.Type  Event.Date         Location        Country  \\\n",
       "0               Accident  1948-10-24  MOOSE CREEK, ID  United States   \n",
       "1               Accident  1962-07-19   BRIDGEPORT, CA  United States   \n",
       "2               Accident  1974-08-30    Saltville, VA  United States   \n",
       "3               Accident  1977-06-19       EUREKA, CA  United States   \n",
       "4               Accident  1979-08-02       Canton, OH  United States   \n",
       "...                  ...         ...              ...            ...   \n",
       "88884           Accident  2022-12-26    Annapolis, MD  United States   \n",
       "88885           Accident  2022-12-26      Hampton, NH  United States   \n",
       "88886           Accident  2022-12-26       Payson, AZ  United States   \n",
       "88887           Accident  2022-12-26       Morgan, UT  United States   \n",
       "88888           Accident  2022-12-29       Athens, GA  United States   \n",
       "\n",
       "      Aircraft.damage                        Make      Model Amateur.Built  \\\n",
       "0           Destroyed                     Stinson      108-3            No   \n",
       "1           Destroyed                       Piper   PA24-180            No   \n",
       "2           Destroyed                      Cessna       172M            No   \n",
       "3           Destroyed                    Rockwell        112            No   \n",
       "4           Destroyed                      Cessna        501            No   \n",
       "...               ...                         ...        ...           ...   \n",
       "88884             NaN                       PIPER  PA-28-151            No   \n",
       "88885             NaN                    BELLANCA       7ECA            No   \n",
       "88886     Substantial  AMERICAN CHAMPION AIRCRAFT      8GCBC            No   \n",
       "88887             NaN                      CESSNA       210N            No   \n",
       "88888             NaN                       PIPER  PA-24-260            No   \n",
       "\n",
       "         Engine.Type Purpose.of.flight  Total.Fatal.Injuries  \\\n",
       "0      Reciprocating          Personal                   2.0   \n",
       "1      Reciprocating          Personal                   4.0   \n",
       "2      Reciprocating          Personal                   3.0   \n",
       "3      Reciprocating          Personal                   2.0   \n",
       "4                NaN          Personal                   1.0   \n",
       "...              ...               ...                   ...   \n",
       "88884            NaN          Personal                   0.0   \n",
       "88885            NaN               NaN                   0.0   \n",
       "88886            NaN          Personal                   0.0   \n",
       "88887            NaN          Personal                   0.0   \n",
       "88888            NaN          Personal                   0.0   \n",
       "\n",
       "       Total.Serious.Injuries  Total.Minor.Injuries  Total.Uninjured  \\\n",
       "0                         0.0                   0.0              0.0   \n",
       "1                         0.0                   0.0              0.0   \n",
       "2                         NaN                   NaN              NaN   \n",
       "3                         0.0                   0.0              0.0   \n",
       "4                         2.0                   NaN              0.0   \n",
       "...                       ...                   ...              ...   \n",
       "88884                     1.0                   0.0              0.0   \n",
       "88885                     0.0                   0.0              0.0   \n",
       "88886                     0.0                   0.0              1.0   \n",
       "88887                     0.0                   0.0              0.0   \n",
       "88888                     1.0                   0.0              1.0   \n",
       "\n",
       "      Weather.Condition Broad.phase.of.flight  \n",
       "0                   UNK                Cruise  \n",
       "1                   UNK               Unknown  \n",
       "2                   IMC                Cruise  \n",
       "3                   IMC                Cruise  \n",
       "4                   VMC              Approach  \n",
       "...                 ...                   ...  \n",
       "88884               NaN                   NaN  \n",
       "88885               NaN                   NaN  \n",
       "88886               VMC                   NaN  \n",
       "88887               NaN                   NaN  \n",
       "88888               NaN                   NaN  \n",
       "\n",
       "[88889 rows x 16 columns]"
      ]
     },
     "execution_count": 4,
     "metadata": {},
     "output_type": "execute_result"
    }
   ],
   "source": [
    "# Keep only important columns\n",
    "cols_to_keep = ['Investigation.Type','Event.Date', 'Location','Country',\n",
    "                'Aircraft.damage', 'Make','Model','Amateur.Built','Engine.Type','Purpose.of.flight','Total.Fatal.Injuries',\n",
    "                'Total.Serious.Injuries', 'Total.Minor.Injuries', 'Total.Uninjured',\n",
    "                'Weather.Condition', 'Broad.phase.of.flight']\n",
    "df = df[cols_to_keep]\n",
    "df"
   ]
  },
  {
   "cell_type": "markdown",
   "metadata": {},
   "source": [
    "**Handling Missing Values**  \n",
    "\n",
    "✅ Identify which columns contain missing (null) values.  \n",
    "✅ Assess the amount of data cleaning required.   \n",
    "\n",
    "   Identify which columns contain missing (null) values\n",
    "   Count Missing Values per Column\n",
    "   Before performing any serious data analysis, it is important to understand how complete the dataset is.  \n",
    "\n",
    "This step helps us:  \n",
    "\n",
    "Identify which columns contain missing (null) values.  \n",
    "Assess the amount of data cleaning required.  \n",
    "We use the `.isnull().sum()` method to count the number of missing values in each colum  "
   ]
  },
  {
   "cell_type": "code",
   "execution_count": null,
   "metadata": {},
   "outputs": [],
   "source": [
    "# Count the number of missing values in each column\n",
    "missing_values = df.isnull().sum()\n",
    "missing_values"
   ]
  },
  {
   "cell_type": "code",
   "execution_count": null,
   "metadata": {},
   "outputs": [],
   "source": [
    "# Sort the columns by number of missing values in descending order\n",
    "missing_values = missing_values.sort_values(ascending=False)\n",
    "missing_values"
   ]
  },
  {
   "cell_type": "markdown",
   "metadata": {},
   "source": [
    "**Filter the dataset**"
   ]
  },
  {
   "cell_type": "markdown",
   "metadata": {},
   "source": [
    "Given that the dataset is primarily focused on the United States (as it comes from the NTSB), we filtered the data to include only U.S.-based events. Additionally, since our analysis concerns aircraft safety and risk, we restricted the dataset to records labeled as actual Accidents, excluding other types of investigations."
   ]
  },
  {
   "cell_type": "code",
   "execution_count": 5,
   "metadata": {},
   "outputs": [],
   "source": [
    "# Filter the dataset to include only records where the event occurred in the United States.\n",
    "df = df[df['Country'] == 'United States']"
   ]
  },
  {
   "cell_type": "code",
   "execution_count": null,
   "metadata": {},
   "outputs": [],
   "source": [
    "# Check the distribution of the 'Country' column to confirm the dominance of U.S. data.\n",
    "df['Country'].value_counts()"
   ]
  },
  {
   "cell_type": "code",
   "execution_count": 6,
   "metadata": {},
   "outputs": [],
   "source": [
    "# Filter the dataset to keep only records classified as actual 'Accidents'.\n",
    "df = df[df['Investigation.Type'] == 'Accident']"
   ]
  },
  {
   "cell_type": "code",
   "execution_count": null,
   "metadata": {},
   "outputs": [],
   "source": [
    "# Check the distribution of the 'Investigation.Type' column to verify the types of investigations recorded.\n",
    "df['Investigation.Type'].value_counts()"
   ]
  },
  {
   "cell_type": "markdown",
   "metadata": {},
   "source": [
    "**Cleaning of Data**"
   ]
  },
  {
   "cell_type": "code",
   "execution_count": 7,
   "metadata": {},
   "outputs": [],
   "source": [
    "# Step 1: Replace variants of 'unknown' and 'unk' with 'Other' for consistency\n",
    "df.replace(\n",
    "    to_replace=['Unknown', 'UNKNOWN','OTHER','Other', 'unknown', 'unk', 'UNK'],\n",
    "    value='Other',\n",
    "    inplace=True\n",
    ")\n",
    "\n",
    "# Step 2: Replace other placeholder strings like 'None', 'Unavailable', 'N/A', etc. with actual NaN values\n",
    "df.replace(\n",
    "    to_replace=['Unavailable', 'UNAVAILABLE', 'None', 'NONE', 'none', 'N/A', 'n/a'],\n",
    "    value=pd.NA,\n",
    "    inplace=True\n",
    ")\n",
    "\n",
    "# Step 3: Fill missing values in numerical columns with the median of each column\n",
    "num_cols = df.select_dtypes(include=['int64', 'float64']).columns\n",
    "for col in num_cols:\n",
    "    df[col].fillna(df[col].median(), inplace=True)\n",
    "\n",
    "# Step 4: Fill missing values in categorical columns with the mode (most frequent value) of each column\n",
    "cat_cols = df.select_dtypes(include=['object']).columns\n",
    "for col in cat_cols:\n",
    "    if not df[col].mode().empty:\n",
    "        df[col].fillna(df[col].mode()[0], inplace=True)\n"
   ]
  },
  {
   "cell_type": "code",
   "execution_count": null,
   "metadata": {},
   "outputs": [],
   "source": [
    "# Visualize missing data across all columns using a heatmap.\n",
    "# Each blue mark indicates a missing value (NaN), helping to quickly identify columns with missing data.\n",
    "sb.heatmap(df.isnull(), yticklabels=False, cbar=False, cmap='Blues')\n"
   ]
  },
  {
   "cell_type": "code",
   "execution_count": 8,
   "metadata": {},
   "outputs": [],
   "source": [
    "# Drop rows where 'Make','Model' or 'Location' is missing, assuming we have enough data to afford this loss.\n",
    "df.dropna(subset=['Make', 'Model', 'Location'], inplace=True)\n"
   ]
  },
  {
   "cell_type": "markdown",
   "metadata": {},
   "source": [
    "# 2. Feature Engineering"
   ]
  },
  {
   "cell_type": "markdown",
   "metadata": {},
   "source": [
    "In this section, we will engineer new features and clean existing ones to make the dataset more suitable for analysis and modeling.  \n",
    "We'll:  \n",
    "\n",
    "- Parse Dates Properly\n",
    "- Adding New Columns to Data Set for Analysis"
   ]
  },
  {
   "cell_type": "markdown",
   "metadata": {},
   "source": [
    "**📅 Parse dates properly**  \n",
    "\n",
    "It is important to convert the 'Event.Date' column from string format to a proper datetime format. This enables easier manipulation and analysis of date information.  \n",
    "\n",
    "After converting, we extract both the year and the month from the event date into new columns called 'Event.Year' and 'Event.Month'. These columns help in analyzing the data based on the year and the exact month of the event."
   ]
  },
  {
   "cell_type": "code",
   "execution_count": 9,
   "metadata": {
    "collapsed": true
   },
   "outputs": [
    {
     "data": {
      "text/html": [
       "<div>\n",
       "<style scoped>\n",
       "    .dataframe tbody tr th:only-of-type {\n",
       "        vertical-align: middle;\n",
       "    }\n",
       "\n",
       "    .dataframe tbody tr th {\n",
       "        vertical-align: top;\n",
       "    }\n",
       "\n",
       "    .dataframe thead th {\n",
       "        text-align: right;\n",
       "    }\n",
       "</style>\n",
       "<table border=\"1\" class=\"dataframe\">\n",
       "  <thead>\n",
       "    <tr style=\"text-align: right;\">\n",
       "      <th></th>\n",
       "      <th>Event.Year</th>\n",
       "      <th>Event.Month</th>\n",
       "    </tr>\n",
       "  </thead>\n",
       "  <tbody>\n",
       "    <tr>\n",
       "      <th>0</th>\n",
       "      <td>1948</td>\n",
       "      <td>10</td>\n",
       "    </tr>\n",
       "    <tr>\n",
       "      <th>1</th>\n",
       "      <td>1962</td>\n",
       "      <td>7</td>\n",
       "    </tr>\n",
       "    <tr>\n",
       "      <th>2</th>\n",
       "      <td>1974</td>\n",
       "      <td>8</td>\n",
       "    </tr>\n",
       "    <tr>\n",
       "      <th>3</th>\n",
       "      <td>1977</td>\n",
       "      <td>6</td>\n",
       "    </tr>\n",
       "    <tr>\n",
       "      <th>4</th>\n",
       "      <td>1979</td>\n",
       "      <td>8</td>\n",
       "    </tr>\n",
       "  </tbody>\n",
       "</table>\n",
       "</div>"
      ],
      "text/plain": [
       "   Event.Year  Event.Month\n",
       "0        1948           10\n",
       "1        1962            7\n",
       "2        1974            8\n",
       "3        1977            6\n",
       "4        1979            8"
      ]
     },
     "execution_count": 9,
     "metadata": {},
     "output_type": "execute_result"
    }
   ],
   "source": [
    "# Convert 'Event.Date' column to datetime format\n",
    "df['Event.Date'] = pd.to_datetime(df['Event.Date'], errors='coerce')\n",
    "\n",
    "\n",
    "# Extract the year from 'Event.Date' and create a new column 'Event.Year'\n",
    "df['Event.Year'] = df['Event.Date'].dt.year\n",
    "\n",
    "# Extract the day from 'Event.Date' and create a new column 'Event.Day'\n",
    "df['Event.Month'] = df['Event.Date'].dt.month\n",
    "\n",
    "df[['Event.Year','Event.Month']].head()\n"
   ]
  },
  {
   "cell_type": "code",
   "execution_count": 10,
   "metadata": {},
   "outputs": [],
   "source": [
    "# Only want data after 1982\n",
    "df = df[df['Event.Year'] >= 1982].copy()"
   ]
  },
  {
   "cell_type": "markdown",
   "metadata": {},
   "source": [
    "**Adding New Columns to Data Set for Analysis**  \n",
    "\n",
    "This new feature gives a single, comprehensive measure of injury severity per accident. It helps simplify analysis and visualization by combining multiple injury columns into one."
   ]
  },
  {
   "cell_type": "code",
   "execution_count": 11,
   "metadata": {},
   "outputs": [],
   "source": [
    "# Calculate the total number of injuries for each record\n",
    "df['Total Injuries'] = (\n",
    "    df['Total.Fatal.Injuries'] +\n",
    "    df['Total.Serious.Injuries'] +\n",
    "    df['Total.Minor.Injuries']\n",
    ")"
   ]
  },
  {
   "cell_type": "markdown",
   "metadata": {},
   "source": [
    "# 3. Merging Datasets\n",
    "🛬 Extracting U.S. State Information\n",
    "\n",
    "To prepare the dataset for geographic analysis and ensure accuracy in merging with U.S. state names, we perform the following steps:\n",
    "\n",
    "1. Extracting State Abbreviations from the Location Column\n",
    "2. Filtering for U.S. Data Only"
   ]
  },
  {
   "cell_type": "code",
   "execution_count": 12,
   "metadata": {},
   "outputs": [],
   "source": [
    "# Extract state codes from the 'Location' column (e.g., extract 'CA' from 'Los Angeles, CA')\n",
    "df['State.Code'] = df['Location'].str.extract(r',\\s*([A-Z]{2})$')\n",
    "\n",
    "# Merge with df1 to get full state name\n",
    "df = df.merge(df1, left_on='State.Code', right_on='Abbreviation', how='left')\n"
   ]
  },
  {
   "cell_type": "code",
   "execution_count": 17,
   "metadata": {},
   "outputs": [],
   "source": [
    "# Rename the merged state column for clarity\n",
    "df.rename(columns={'US_State': 'State.Name'}, inplace=True)\n"
   ]
  },
  {
   "cell_type": "code",
   "execution_count": 13,
   "metadata": {},
   "outputs": [],
   "source": [
    "# Drop the 'Location' and 'Abbreviation' columns now that we've extracted the necessary information\n",
    "df.drop(columns=['Location', 'Abbreviation'], inplace=True)\n"
   ]
  },
  {
   "cell_type": "code",
   "execution_count": 18,
   "metadata": {},
   "outputs": [],
   "source": [
    "# Reorder the columns so Country, State.Code, and State.Name appear together at the front\n",
    "cols = df.columns.tolist()\n",
    "\n",
    "# Remove the 3 columns\n",
    "for col in ['Country', 'State.Code', 'State.Name']:\n",
    "    cols.remove(col)\n",
    "\n",
    "# Place them at the front\n",
    "new_order = ['Country','State.Name', 'State.Code'] + cols\n",
    "\n",
    "# Reorder the dataframe\n",
    "df = df[new_order]\n"
   ]
  },
  {
   "cell_type": "code",
   "execution_count": 19,
   "metadata": {},
   "outputs": [],
   "source": [
    "# Get current column list\n",
    "cols = df.columns.tolist()\n",
    "\n",
    "# Remove the columns we want to move\n",
    "cols.remove('Event.Year')\n",
    "cols.remove('Event.Month')\n",
    "\n",
    "# Create new column order with year and month first\n",
    "new_cols = ['Event.Year', 'Event.Month'] + cols\n",
    "\n",
    "# Reindex the DataFrame\n",
    "df = df[new_cols]"
   ]
  },
  {
   "cell_type": "markdown",
   "metadata": {},
   "source": [
    "- After cleaning the Data save the DataFrame to a CSV file or to an Excel file."
   ]
  },
  {
   "cell_type": "code",
   "execution_count": 20,
   "metadata": {},
   "outputs": [],
   "source": [
    "# Strip whitespace in one line  \n",
    "df.columns = df.columns.str.strip()  "
   ]
  },
  {
   "cell_type": "code",
   "execution_count": 21,
   "metadata": {},
   "outputs": [],
   "source": [
    "# Save the cleaned and enriched DataFrame to a CSV file\n",
    "df.to_csv('cleaned_AviationUSData.csv', index=False)"
   ]
  },
  {
   "cell_type": "code",
   "execution_count": 22,
   "metadata": {},
   "outputs": [],
   "source": [
    "# Import the regular expression used by openpyxl to detect illegal characters\n",
    "from openpyxl.cell.cell import ILLEGAL_CHARACTERS_RE\n",
    "\n",
    "# Apply cleaning to all string-type columns to remove characters not supported by Excel\n",
    "df= df.applymap(lambda x: ILLEGAL_CHARACTERS_RE.sub('', x) if isinstance(x, str) else x)\n",
    "\n",
    "# Save the cleaned DataFrame to an Excel file\n",
    "df.to_excel('cleaned_AviationUSData.xlsx', index=False)\n"
   ]
  },
  {
   "cell_type": "markdown",
   "metadata": {},
   "source": [
    "# 📊 Data Exploration"
   ]
  },
  {
   "cell_type": "code",
   "execution_count": null,
   "metadata": {},
   "outputs": [],
   "source": [
    "# Display statistical summary of numerical columns in the dataset\n",
    "df.describe()"
   ]
  },
  {
   "cell_type": "markdown",
   "metadata": {},
   "source": [
    "# 1. Accident Trend Over the Years"
   ]
  },
  {
   "cell_type": "code",
   "execution_count": 24,
   "metadata": {
    "collapsed": true
   },
   "outputs": [
    {
     "data": {
      "image/png": "[encoded data removed]",
      "text/plain": [
       "<Figure size 864x432 with 1 Axes>"
      ]
     },
     "metadata": {
      "needs_background": "light"
     },
     "output_type": "display_data"
    }
   ],
   "source": [
    "recent_df = df[df['Event.Year'] >= 2000]\n",
    "plt.figure(figsize=(12,6))\n",
    "sb.countplot(x='Event.Year', data=recent_df, palette='coolwarm')\n",
    "plt.xticks(rotation=45)\n",
    "plt.title('Events Since 2000')\n",
    "plt.tight_layout()\n",
    "plt.show()"
   ]
  },
  {
   "cell_type": "markdown",
   "metadata": {},
   "source": [
    "**U.S. Aviation Accidents (2000–2022):**  \n",
    "The bar chart shows a clear downward trend in aviation accidents over the years. In 2000, there were about 2 000 accidents. By 2010, this dropped to about 1 500, reflecting significant progress in aviation safety.The lowest point was in 2020 with 1,131 accidents, likely due to reduced flight activity during the COVID-19 pandemic. A slight uptick appears in 2021 (1,173) and 2022 (1,237) as air travel resumed. Overall, the chart highlights a steady improvement in safety standards, driven by technological advances, stronger regulations, and better training."
   ]
  },
  {
   "cell_type": "markdown",
   "metadata": {},
   "source": [
    "**- Accident Trend by Month**"
   ]
  },
  {
   "cell_type": "code",
   "execution_count": 25,
   "metadata": {
    "collapsed": true
   },
   "outputs": [
    {
     "data": {
      "text/plain": [
       "<AxesSubplot:xlabel='Event.Month', ylabel='count'>"
      ]
     },
     "execution_count": 25,
     "metadata": {},
     "output_type": "execute_result"
    },
    {
     "data": {
      "image/png": "[encoded data removed]",
      "text/plain": [
       "<Figure size 1440x576 with 1 Axes>"
      ]
     },
     "metadata": {
      "needs_background": "light"
     },
     "output_type": "display_data"
    }
   ],
   "source": [
    "plt.figure(figsize=(20,8))\n",
    "sb.countplot(x='Event.Month', data=df, palette='coolwarm') "
   ]
  },
  {
   "cell_type": "markdown",
   "metadata": {},
   "source": [
    "Most Accidents occur between June and August"
   ]
  },
  {
   "cell_type": "markdown",
   "metadata": {},
   "source": [
    "# 2. Total Injury Count Over The Years (Time Based Analysis)\n",
    "Exploratory Analysis  \n",
    "\n",
    "Total Injury Count Over the Years"
   ]
  },
  {
   "cell_type": "code",
   "execution_count": 26,
   "metadata": {},
   "outputs": [],
   "source": [
    "by_year = df.groupby('Event.Year').sum()"
   ]
  },
  {
   "cell_type": "code",
   "execution_count": 27,
   "metadata": {},
   "outputs": [
    {
     "data": {
      "image/png": "[encoded data removed]",
      "text/plain": [
       "<Figure size 864x432 with 1 Axes>"
      ]
     },
     "metadata": {
      "needs_background": "light"
     },
     "output_type": "display_data"
    }
   ],
   "source": [
    "plt.figure(figsize=(12, 6))\n",
    "plt.plot(by_year.index, by_year['Total Injuries'], color='blue', linewidth=2.5, marker='o', markersize=6, markerfacecolor='red')\n",
    "\n",
    "plt.title('Total Aviation Injuries in the U.S. (by Year)', fontsize=16)\n",
    "plt.xlabel('Year', fontsize=13)\n",
    "plt.ylabel('Total Injuries', fontsize=13)\n",
    "plt.grid(True)\n",
    "plt.tight_layout()\n",
    "plt.show()"
   ]
  },
  {
   "cell_type": "markdown",
   "metadata": {},
   "source": [
    "The line shows a declining trend in total aviation injuries, with zigzag fluctuations year to year. Long-term decline reflects improved safety, better technology, and stricter regulations. Zigzags suggest occasional spikes due to major accidents or traffic changes. 2020 drop likely caused by COVID-19; slight rebound after as flights resumed.  \n",
    "\n",
    "✅ Overall, fewer injuries over time = safer skies"
   ]
  },
  {
   "cell_type": "code",
   "execution_count": 28,
   "metadata": {},
   "outputs": [
    {
     "data": {
      "text/plain": [
       "<matplotlib.legend.Legend at 0x224490d7e50>"
      ]
     },
     "execution_count": 28,
     "metadata": {},
     "output_type": "execute_result"
    },
    {
     "data": {
      "image/png": "[encoded data removed]",
      "text/plain": [
       "<Figure size 864x432 with 1 Axes>"
      ]
     },
     "metadata": {
      "needs_background": "light"
     },
     "output_type": "display_data"
    }
   ],
   "source": [
    "by_year[['Total.Fatal.Injuries','Total.Serious.Injuries','Total.Minor.Injuries']].plot(lw = 2, figsize=(12,6))\n",
    "# to move the legend outside of graph\n",
    "plt.legend(bbox_to_anchor = (1.05,1), loc=2, borderaxespad=0)"
   ]
  },
  {
   "cell_type": "markdown",
   "metadata": {},
   "source": [
    "- Based on the two graphs above, we can see that Injury Count is on a downward trend for all kinds of injuries."
   ]
  },
  {
   "cell_type": "markdown",
   "metadata": {},
   "source": [
    "# 3. Phase of Flight Analysis\n",
    "Exploratory Analysis"
   ]
  },
  {
   "cell_type": "code",
   "execution_count": 29,
   "metadata": {
    "collapsed": true
   },
   "outputs": [
    {
     "data": {
      "text/html": [
       "<div>\n",
       "<style scoped>\n",
       "    .dataframe tbody tr th:only-of-type {\n",
       "        vertical-align: middle;\n",
       "    }\n",
       "\n",
       "    .dataframe tbody tr th {\n",
       "        vertical-align: top;\n",
       "    }\n",
       "\n",
       "    .dataframe thead th {\n",
       "        text-align: right;\n",
       "    }\n",
       "</style>\n",
       "<table border=\"1\" class=\"dataframe\">\n",
       "  <thead>\n",
       "    <tr style=\"text-align: right;\">\n",
       "      <th></th>\n",
       "      <th>Broad.phase.of.flight</th>\n",
       "      <th>Total.Fatal.Injuries</th>\n",
       "      <th>Total.Serious.Injuries</th>\n",
       "      <th>Total.Minor.Injuries</th>\n",
       "      <th>Total.Uninjured</th>\n",
       "      <th>Total Injuries</th>\n",
       "    </tr>\n",
       "  </thead>\n",
       "  <tbody>\n",
       "    <tr>\n",
       "      <th>0</th>\n",
       "      <td>Approach</td>\n",
       "      <td>3822.0</td>\n",
       "      <td>1894.0</td>\n",
       "      <td>2391.0</td>\n",
       "      <td>9673.0</td>\n",
       "      <td>8107.0</td>\n",
       "    </tr>\n",
       "    <tr>\n",
       "      <th>1</th>\n",
       "      <td>Climb</td>\n",
       "      <td>1740.0</td>\n",
       "      <td>592.0</td>\n",
       "      <td>857.0</td>\n",
       "      <td>6496.0</td>\n",
       "      <td>3189.0</td>\n",
       "    </tr>\n",
       "    <tr>\n",
       "      <th>2</th>\n",
       "      <td>Cruise</td>\n",
       "      <td>6056.0</td>\n",
       "      <td>2104.0</td>\n",
       "      <td>3798.0</td>\n",
       "      <td>22179.0</td>\n",
       "      <td>11958.0</td>\n",
       "    </tr>\n",
       "    <tr>\n",
       "      <th>3</th>\n",
       "      <td>Descent</td>\n",
       "      <td>904.0</td>\n",
       "      <td>465.0</td>\n",
       "      <td>881.0</td>\n",
       "      <td>13173.0</td>\n",
       "      <td>2250.0</td>\n",
       "    </tr>\n",
       "    <tr>\n",
       "      <th>4</th>\n",
       "      <td>Go-around</td>\n",
       "      <td>587.0</td>\n",
       "      <td>384.0</td>\n",
       "      <td>618.0</td>\n",
       "      <td>1392.0</td>\n",
       "      <td>1589.0</td>\n",
       "    </tr>\n",
       "    <tr>\n",
       "      <th>5</th>\n",
       "      <td>Landing</td>\n",
       "      <td>6574.0</td>\n",
       "      <td>7201.0</td>\n",
       "      <td>7066.0</td>\n",
       "      <td>97249.0</td>\n",
       "      <td>20841.0</td>\n",
       "    </tr>\n",
       "    <tr>\n",
       "      <th>6</th>\n",
       "      <td>Maneuvering</td>\n",
       "      <td>5262.0</td>\n",
       "      <td>1906.0</td>\n",
       "      <td>1959.0</td>\n",
       "      <td>5887.0</td>\n",
       "      <td>9127.0</td>\n",
       "    </tr>\n",
       "    <tr>\n",
       "      <th>7</th>\n",
       "      <td>Other</td>\n",
       "      <td>736.0</td>\n",
       "      <td>58.0</td>\n",
       "      <td>35.0</td>\n",
       "      <td>572.0</td>\n",
       "      <td>829.0</td>\n",
       "    </tr>\n",
       "    <tr>\n",
       "      <th>8</th>\n",
       "      <td>Standing</td>\n",
       "      <td>147.0</td>\n",
       "      <td>228.0</td>\n",
       "      <td>323.0</td>\n",
       "      <td>10681.0</td>\n",
       "      <td>698.0</td>\n",
       "    </tr>\n",
       "    <tr>\n",
       "      <th>9</th>\n",
       "      <td>Takeoff</td>\n",
       "      <td>4232.0</td>\n",
       "      <td>3107.0</td>\n",
       "      <td>4840.0</td>\n",
       "      <td>21596.0</td>\n",
       "      <td>12179.0</td>\n",
       "    </tr>\n",
       "    <tr>\n",
       "      <th>10</th>\n",
       "      <td>Taxi</td>\n",
       "      <td>96.0</td>\n",
       "      <td>110.0</td>\n",
       "      <td>419.0</td>\n",
       "      <td>21213.0</td>\n",
       "      <td>625.0</td>\n",
       "    </tr>\n",
       "  </tbody>\n",
       "</table>\n",
       "</div>"
      ],
      "text/plain": [
       "   Broad.phase.of.flight  Total.Fatal.Injuries  Total.Serious.Injuries  \\\n",
       "0               Approach                3822.0                  1894.0   \n",
       "1                  Climb                1740.0                   592.0   \n",
       "2                 Cruise                6056.0                  2104.0   \n",
       "3                Descent                 904.0                   465.0   \n",
       "4              Go-around                 587.0                   384.0   \n",
       "5                Landing                6574.0                  7201.0   \n",
       "6            Maneuvering                5262.0                  1906.0   \n",
       "7                  Other                 736.0                    58.0   \n",
       "8               Standing                 147.0                   228.0   \n",
       "9                Takeoff                4232.0                  3107.0   \n",
       "10                  Taxi                  96.0                   110.0   \n",
       "\n",
       "    Total.Minor.Injuries  Total.Uninjured  Total Injuries  \n",
       "0                 2391.0           9673.0          8107.0  \n",
       "1                  857.0           6496.0          3189.0  \n",
       "2                 3798.0          22179.0         11958.0  \n",
       "3                  881.0          13173.0          2250.0  \n",
       "4                  618.0           1392.0          1589.0  \n",
       "5                 7066.0          97249.0         20841.0  \n",
       "6                 1959.0           5887.0          9127.0  \n",
       "7                   35.0            572.0           829.0  \n",
       "8                  323.0          10681.0           698.0  \n",
       "9                 4840.0          21596.0         12179.0  \n",
       "10                 419.0          21213.0           625.0  "
      ]
     },
     "execution_count": 29,
     "metadata": {},
     "output_type": "execute_result"
    }
   ],
   "source": [
    "by_phase = df.groupby('Broad.phase.of.flight').sum().reset_index()\n",
    "by_phase = by_phase.drop(['Event.Year','Event.Month'], axis=1)\n",
    "by_phase"
   ]
  },
  {
   "cell_type": "code",
   "execution_count": 30,
   "metadata": {},
   "outputs": [
    {
     "data": {
      "image/png": "[encoded data removed]",
      "text/plain": [
       "<Figure size 1008x576 with 1 Axes>"
      ]
     },
     "metadata": {
      "needs_background": "light"
     },
     "output_type": "display_data"
    }
   ],
   "source": [
    "plt.figure(figsize = (14,8))\n",
    "sb.barplot(x = 'Broad.phase.of.flight',y='Total Injuries' , data = by_phase.reset_index() , palette = 'coolwarm', ec = 'black')\n",
    "plt.title('Phase Of Flight ' , size = 20)\n",
    "plt.xlabel('')\n",
    "plt.ylabel('Total Injury Count', size = 20)\n",
    "plt.tight_layout()"
   ]
  },
  {
   "cell_type": "markdown",
   "metadata": {},
   "source": [
    "- Most Accident and Injuries Sustained occured during Landing, Cruise, Takeoff."
   ]
  },
  {
   "cell_type": "markdown",
   "metadata": {},
   "source": [
    "# 4. Aircraft Manufacturer Analysis\n",
    "**4.1 Aircraft Safety Analysis: Top 10 Manufacturers with Lowest Accident Rates**  \n",
    "\n",
    "**Objective:** Identify and visualize the safest aircraft manufacturers based on historical accident data to inform procurement decisions.\n"
   ]
  },
  {
   "cell_type": "code",
   "execution_count": 22,
   "metadata": {},
   "outputs": [],
   "source": [
    "df['Make'] = df['Make'].str.lower()"
   ]
  },
  {
   "cell_type": "code",
   "execution_count": 24,
   "metadata": {},
   "outputs": [
    {
     "data": {
      "image/png": "[encoded data removed]",
      "text/plain": [
       "<Figure size 720x432 with 1 Axes>"
      ]
     },
     "metadata": {
      "needs_background": "light"
     },
     "output_type": "display_data"
    }
   ],
   "source": [
    "# Number of accidents per manufacturer\n",
    "manufacturer_counts = df['Make'].value_counts()\n",
    "\n",
    "# Select the 10 manufacturers with the lowest number of accidents\n",
    "least_accident_makers = manufacturer_counts.sort_values().head(10)\n",
    "\n",
    "# Visualization\n",
    "plt.figure(figsize=(10,6))\n",
    "least_accident_makers.plot(kind='barh', color='seagreen')  # Horizontal bar plot\n",
    "plt.title('Top 10 Manufacturers with the Lowest Number of Accidents')  # Chart title\n",
    "plt.xlabel('Number of Accidents')  # X-axis label\n",
    "plt.ylabel('Aircraft Manufacturer')  # Y-axis label\n",
    "plt.grid(axis='x', linestyle='--', alpha=0.7)  # Add gridlines on the x-axis for better readability\n",
    "plt.tight_layout()  # Adjust layout to prevent clipping\n",
    "plt.show()  # Display the plot\n"
   ]
  },
  {
   "cell_type": "markdown",
   "metadata": {},
   "source": [
    "The bar chart displays the 10 aircraft manufacturers with the lowest number of reported accidents. All other manufacturers have been grouped under 'OTHER' for clarity and simplicity. This analysis highlights a group of manufacturers with very few accident records. However, it is important to note that a low number of reported accidents does not necessarily indicate better safety performance — it may instead reflect a smaller fleet size, limited aircraft production, or infrequent operational use."
   ]
  },
  {
   "cell_type": "markdown",
   "metadata": {},
   "source": [
    "**4.2 Analyzing Aircraft Safety: Top 10 Manufacturers by Accident Frequency**\n",
    "\n",
    "**Objective:** This code identifies and visualizes the aircraft manufacturers with the highest accident records to inform risk assessment decisions."
   ]
  },
  {
   "cell_type": "code",
   "execution_count": 24,
   "metadata": {
    "collapsed": true
   },
   "outputs": [
    {
     "name": "stdout",
     "output_type": "stream",
     "text": [
      "\n",
      "Top 10 Manufacturers by Accident Count:\n"
     ]
    },
    {
     "data": {
      "text/html": [
       "<style  type=\"text/css\" >\n",
       "#T_3cd6e171_453f_11f0_9411_382c4a53eeabrow0_col0{\n",
       "            background-color:  #67000d;\n",
       "            color:  #f1f1f1;\n",
       "        }#T_3cd6e171_453f_11f0_9411_382c4a53eeabrow1_col0{\n",
       "            background-color:  #f85d42;\n",
       "            color:  #000000;\n",
       "        }#T_3cd6e171_453f_11f0_9411_382c4a53eeabrow2_col0{\n",
       "            background-color:  #fdd5c4;\n",
       "            color:  #000000;\n",
       "        }#T_3cd6e171_453f_11f0_9411_382c4a53eeabrow3_col0{\n",
       "            background-color:  #ffece3;\n",
       "            color:  #000000;\n",
       "        }#T_3cd6e171_453f_11f0_9411_382c4a53eeabrow4_col0{\n",
       "            background-color:  #fff2ec;\n",
       "            color:  #000000;\n",
       "        }#T_3cd6e171_453f_11f0_9411_382c4a53eeabrow5_col0{\n",
       "            background-color:  #fff4ee;\n",
       "            color:  #000000;\n",
       "        }#T_3cd6e171_453f_11f0_9411_382c4a53eeabrow6_col0{\n",
       "            background-color:  #fff4ef;\n",
       "            color:  #000000;\n",
       "        }#T_3cd6e171_453f_11f0_9411_382c4a53eeabrow7_col0,#T_3cd6e171_453f_11f0_9411_382c4a53eeabrow8_col0,#T_3cd6e171_453f_11f0_9411_382c4a53eeabrow9_col0{\n",
       "            background-color:  #fff5f0;\n",
       "            color:  #000000;\n",
       "        }</style><table id=\"T_3cd6e171_453f_11f0_9411_382c4a53eeab\" ><caption>Table 1: Highest-Risk Aircraft Manufacturers</caption><thead>    <tr>        <th class=\"blank level0\" ></th>        <th class=\"col_heading level0 col0\" >Number of Accidents</th>    </tr></thead><tbody>\n",
       "                <tr>\n",
       "                        <th id=\"T_3cd6e171_453f_11f0_9411_382c4a53eeablevel0_row0\" class=\"row_heading level0 row0\" >cessna</th>\n",
       "                        <td id=\"T_3cd6e171_453f_11f0_9411_382c4a53eeabrow0_col0\" class=\"data row0 col0\" >25578</td>\n",
       "            </tr>\n",
       "            <tr>\n",
       "                        <th id=\"T_3cd6e171_453f_11f0_9411_382c4a53eeablevel0_row1\" class=\"row_heading level0 row1\" >piper</th>\n",
       "                        <td id=\"T_3cd6e171_453f_11f0_9411_382c4a53eeabrow1_col0\" class=\"data row1 col0\" >14008</td>\n",
       "            </tr>\n",
       "            <tr>\n",
       "                        <th id=\"T_3cd6e171_453f_11f0_9411_382c4a53eeablevel0_row2\" class=\"row_heading level0 row2\" >beech</th>\n",
       "                        <td id=\"T_3cd6e171_453f_11f0_9411_382c4a53eeabrow2_col0\" class=\"data row2 col0\" >4892</td>\n",
       "            </tr>\n",
       "            <tr>\n",
       "                        <th id=\"T_3cd6e171_453f_11f0_9411_382c4a53eeablevel0_row3\" class=\"row_heading level0 row3\" >bell</th>\n",
       "                        <td id=\"T_3cd6e171_453f_11f0_9411_382c4a53eeabrow3_col0\" class=\"data row3 col0\" >2236</td>\n",
       "            </tr>\n",
       "            <tr>\n",
       "                        <th id=\"T_3cd6e171_453f_11f0_9411_382c4a53eeablevel0_row4\" class=\"row_heading level0 row4\" >mooney</th>\n",
       "                        <td id=\"T_3cd6e171_453f_11f0_9411_382c4a53eeabrow4_col0\" class=\"data row4 col0\" >1272</td>\n",
       "            </tr>\n",
       "            <tr>\n",
       "                        <th id=\"T_3cd6e171_453f_11f0_9411_382c4a53eeablevel0_row5\" class=\"row_heading level0 row5\" >grumman</th>\n",
       "                        <td id=\"T_3cd6e171_453f_11f0_9411_382c4a53eeabrow5_col0\" class=\"data row5 col0\" >1131</td>\n",
       "            </tr>\n",
       "            <tr>\n",
       "                        <th id=\"T_3cd6e171_453f_11f0_9411_382c4a53eeablevel0_row6\" class=\"row_heading level0 row6\" >bellanca</th>\n",
       "                        <td id=\"T_3cd6e171_453f_11f0_9411_382c4a53eeabrow6_col0\" class=\"data row6 col0\" >1036</td>\n",
       "            </tr>\n",
       "            <tr>\n",
       "                        <th id=\"T_3cd6e171_453f_11f0_9411_382c4a53eeablevel0_row7\" class=\"row_heading level0 row7\" >boeing</th>\n",
       "                        <td id=\"T_3cd6e171_453f_11f0_9411_382c4a53eeabrow7_col0\" class=\"data row7 col0\" >931</td>\n",
       "            </tr>\n",
       "            <tr>\n",
       "                        <th id=\"T_3cd6e171_453f_11f0_9411_382c4a53eeablevel0_row8\" class=\"row_heading level0 row8\" >robinson</th>\n",
       "                        <td id=\"T_3cd6e171_453f_11f0_9411_382c4a53eeabrow8_col0\" class=\"data row8 col0\" >916</td>\n",
       "            </tr>\n",
       "            <tr>\n",
       "                        <th id=\"T_3cd6e171_453f_11f0_9411_382c4a53eeablevel0_row9\" class=\"row_heading level0 row9\" >hughes</th>\n",
       "                        <td id=\"T_3cd6e171_453f_11f0_9411_382c4a53eeabrow9_col0\" class=\"data row9 col0\" >868</td>\n",
       "            </tr>\n",
       "    </tbody></table>"
      ],
      "text/plain": [
       "<pandas.io.formats.style.Styler at 0x19129ea4940>"
      ]
     },
     "metadata": {},
     "output_type": "display_data"
    }
   ],
   "source": [
    "# Step 1: Count the number of accidents per manufacturer\n",
    "manufacturer_counts = df['Make'].value_counts()\n",
    "\n",
    "# Step 2: Select the top 10 manufacturers with the highest number of accidents\n",
    "most_accident_manufacturers = manufacturer_counts.sort_values(ascending=False).head(10)\n",
    "# 3. Display summary table\n",
    "print(\"\\nTop 10 Manufacturers by Accident Count:\")\n",
    "display(most_accident_manufacturers.to_frame('Number of Accidents').style\\\n",
    "    .background_gradient(cmap='Reds')\\\n",
    "    .set_caption('Table 1: Highest-Risk Aircraft Manufacturers'))"
   ]
  },
  {
   "cell_type": "code",
   "execution_count": 25,
   "metadata": {},
   "outputs": [
    {
     "data": {
      "image/png": "[encoded data removed]",
      "text/plain": [
       "<Figure size 720x432 with 1 Axes>"
      ]
     },
     "metadata": {
      "needs_background": "light"
     },
     "output_type": "display_data"
    }
   ],
   "source": [
    "# Step 3: Plot the bar chart\n",
    "plt.figure(figsize=(10,6))\n",
    "most_accident_manufacturers.plot(kind='bar', color='salmon')\n",
    "plt.title('Top 10 Aircraft Manufacturers with the Highest Number of Accidents', fontsize=14)\n",
    "plt.ylabel('Number of Accidents')\n",
    "plt.xlabel('Aircraft Manufacturer')\n",
    "plt.grid(axis='y', linestyle='--', alpha=0.7)\n",
    "plt.xticks(rotation=45)\n",
    "plt.tight_layout()\n",
    "plt.show()\n"
   ]
  },
  {
   "cell_type": "markdown",
   "metadata": {},
   "source": [
    "The bar chart illustrates the 10 aircraft manufacturers with the highest number of reported accidents in the dataset. These manufacturers represent a significant portion of all recorded aviation incidents. The large number of accidents reported for some manufacturers may be due to their widespread use, high production volumes, and long operational history rather than inherently lower safety standards.\n",
    "\n",
    "For instance, some companies produce a large number of general aviation aircraft used for training, personal flights, and commercial purposes — all of which increase exposure to accident risk over time. It is essential to consider both the number of aircraft in service and the frequency of flights when interpreting these figures, as higher accident counts often reflect broader usage rather than poor design or maintenance practices.\n",
    "\n",
    "This visualization helps identify manufacturers with the most exposure in aviation activities and serves as a starting point for deeper analysis into accident causes, aircraft types, and flight conditions."
   ]
  },
  {
   "cell_type": "markdown",
   "metadata": {},
   "source": [
    "# ✈️5. Comparing Injury Severity Between Manufacturers with the Most and Least Reported Accidents  \n",
    "\n",
    "This section compares the total number of fatal and serious injuries for two groups of aircraft manufacturers:\n",
    "\n",
    "Those with the lowest number of reported accidents.\n",
    "Those with the highest number of reported accidents.\n",
    "The goal is to see whether fewer accidents also mean fewer injuries, or if severity varies by manufacturer regardless of frequency."
   ]
  },
  {
   "cell_type": "code",
   "execution_count": 25,
   "metadata": {
    "collapsed": true
   },
   "outputs": [
    {
     "data": {
      "image/png": "[encoded data removed]",
      "text/plain": [
       "<Figure size 720x432 with 1 Axes>"
      ]
     },
     "metadata": {
      "needs_background": "light"
     },
     "output_type": "display_data"
    }
   ],
   "source": [
    "# Select rows where 'Make' is among the least accident-prone manufacturers\n",
    "df_least = df[df['Make'].isin(least_accident_makers.index)]\n",
    "\n",
    "# Select relevant columns for injury severity\n",
    "injury_cols = ['Total.Fatal.Injuries', 'Total.Serious.Injuries']\n",
    "\n",
    "# Sum up fatal and serious injuries by manufacturer\n",
    "df_injuries_least = df_least.groupby('Make')[injury_cols].sum()\n",
    "\n",
    "# Plotting\n",
    "df_injuries_least.plot(kind='bar', stacked=True, figsize=(10,6), colormap='Reds')\n",
    "plt.title('Fatal and Serious Injuries for Least Accidented Manufacturers')\n",
    "plt.ylabel('Number of People Injured')\n",
    "plt.xticks(rotation=45)\n",
    "plt.tight_layout()\n",
    "plt.show()\n"
   ]
  },
  {
   "cell_type": "markdown",
   "metadata": {},
   "source": [
    "In this bar chart, each bar represents one manufacturer with low total accident counts.The red part of the bars represents serious injuries, and the white or barely visible part represents fatal injuries (Total.Fatal.Injuries).\n",
    "What we observe: For most manufacturers, the red bar (serious injuries) is small — indicating very few serious injuries.\n",
    "The white (or invisible) sections suggest that fatal injuries are either zero or extremely low — almost non-existent in these cases.\n",
    "For example:\n",
    "some make shows a tiny red bar (from 0 to 1), indicating just 1 serious injury.\n",
    "and other goes slightly higher (from 1 to 2), again indicating a very low severity level\n",
    "\n",
    "These manufacturers may have very few accidents, and when accidents do occur, they rarely lead to serious or fatal outcomes. However, because the sample size is small, we cannot draw strong conclusions yet. These graphs suggest better outcomes per incident, but we need a rate-based metric to confirm."
   ]
  },
  {
   "cell_type": "code",
   "execution_count": 27,
   "metadata": {},
   "outputs": [
    {
     "data": {
      "image/png": "[encoded data removed]",
      "text/plain": [
       "<Figure size 720x432 with 1 Axes>"
      ]
     },
     "metadata": {
      "needs_background": "light"
     },
     "output_type": "display_data"
    }
   ],
   "source": [
    "# Create a list of top accident manufacturers\n",
    "most_accident_makers = df['Make'].value_counts().head(10)\n",
    "\n",
    "# Filter dataset to only include those top manufacturers\n",
    "df_most = df[df['Make'].isin(most_accident_makers.index)]\n",
    "\n",
    "# Sum up fatal and serious injuries by top manufacturer\n",
    "df_injuries_most = df_most.groupby('Make')[injury_cols].sum()\n",
    "\n",
    "# Plotting\n",
    "df_injuries_most.plot(kind='bar', stacked=True, figsize=(10,6), colormap='Blues')\n",
    "plt.title('Fatal and Serious Injuries for Most Accidented Manufacturers')\n",
    "plt.ylabel('Number of People Injured')\n",
    "plt.xticks(rotation=45)\n",
    "plt.tight_layout()\n",
    "plt.show()\n"
   ]
  },
  {
   "cell_type": "markdown",
   "metadata": {},
   "source": [
    "This chart uses blue for serious injuries and again white or invisible for fatal injuries.Almost all 10 manufacturers show visible blue bars, meaning they recorded a significant number of serious injuries.\n",
    "Notable cases: Cessna has the tallest blue bar, ranging from 8,000 to 12,000 serious injuries. It indicates the highest severity burden.\n",
    "Piper also stands out, with its bar ranging from 6,000 to 9,000 serious injuries.\n",
    "Other manufacturers (like Beech, Bell, Mooney) have shorter bars, but still non-zero.\n",
    "\n",
    "These manufacturers are involved in many more accidents, and they tend to result in significant numbers of serious injuries. The white part (fatal injuries) is less visible, suggesting that while deaths occur, serious injuries dominate in frequency. However, since these manufacturers also have much larger fleets, the raw numbers might reflect greater usage, not necessarily lower safety."
   ]
  },
  {
   "cell_type": "markdown",
   "metadata": {},
   "source": [
    "**Calculate a severity ratio to see whether a manufacturer has a high injury rate per accident, not just a high total number.**"
   ]
  },
  {
   "cell_type": "code",
   "execution_count": 28,
   "metadata": {},
   "outputs": [
    {
     "name": "stdout",
     "output_type": "stream",
     "text": [
      "                           Severity.Rate\n",
      "Make                                    \n",
      "rotherwick                           2.0\n",
      "eslinger c w/eslinger s m            1.0\n",
      "goodyear aerospace                   1.0\n",
      "reichel                              1.0\n",
      "jackovich                            0.0\n",
      "kirk ellis wendell                   0.0\n",
      "miles atwood                         0.0\n",
      "moody-siple                          0.0\n",
      "piper cub crafters                   0.0\n",
      "sportsman                            0.0\n"
     ]
    }
   ],
   "source": [
    "# Subset the DataFrame to include only the 10 manufacturers with the fewest accidents\n",
    "df_least = df[df['Make'].isin(least_accident_makers.index)]\n",
    "\n",
    "# Count the total number of accidents per manufacturer\n",
    "accidents_least = df_least.groupby('Make').size()\n",
    "\n",
    "# Sum the number of fatal and serious injuries for each manufacturer\n",
    "injuries_least = df_least.groupby('Make')[['Total.Fatal.Injuries', 'Total.Serious.Injuries']].sum()\n",
    "\n",
    "# Calculate severity rate = (fatal + serious injuries) / total number of accidents\n",
    "injuries_least['Severity.Rate'] = (\n",
    "    injuries_least['Total.Fatal.Injuries'] + injuries_least['Total.Serious.Injuries']\n",
    ") / accidents_least\n",
    "\n",
    "# Sort by severity rate in descending order and display\n",
    "injuries_least = injuries_least.sort_values('Severity.Rate', ascending=False)\n",
    "print(injuries_least[['Severity.Rate']])\n"
   ]
  },
  {
   "cell_type": "markdown",
   "metadata": {},
   "source": [
    "Some small manufacturer like Newgent has very high severity rates (up to 2.0), meaning that each of their few accidents involved 1 or 2 serious or fatal injuries on average.\n",
    "Others (like Baker, Mileski) show a severity rate of 0, suggesting their rare accidents did not involve serious or fatal injuries.However, their sample sizes are likely very small, so one severe accident significantly skews their rate."
   ]
  },
  {
   "cell_type": "code",
   "execution_count": 29,
   "metadata": {},
   "outputs": [
    {
     "name": "stdout",
     "output_type": "stream",
     "text": [
      "          Severity.Rate\n",
      "Make                   \n",
      "boeing         2.485499\n",
      "beech          0.845871\n",
      "mooney         0.697327\n",
      "bell           0.625224\n",
      "piper          0.613364\n",
      "bellanca       0.517375\n",
      "cessna         0.469544\n",
      "robinson       0.426856\n",
      "hughes         0.422811\n",
      "grumman        0.320955\n"
     ]
    }
   ],
   "source": [
    "# Subset the DataFrame for the 10 manufacturers with the highest number of accidents\n",
    "df_most = df[df['Make'].isin(most_accident_makers.index)]\n",
    "\n",
    "# Total number of accidents per manufacturer\n",
    "accidents_most = df_most.groupby('Make').size()\n",
    "\n",
    "# Total number of fatal and serious injuries per manufacturer\n",
    "injuries_most = df_most.groupby('Make')[['Total.Fatal.Injuries', 'Total.Serious.Injuries']].sum()\n",
    "\n",
    "# Severity Rate = (fatal + serious injuries) / total number of accidents\n",
    "injuries_most['Severity.Rate'] = (\n",
    "    injuries_most['Total.Fatal.Injuries'] + injuries_most['Total.Serious.Injuries']\n",
    ") / accidents_most\n",
    "\n",
    "# Sort the results by severity rate in descending order and display\n",
    "injuries_most = injuries_most.sort_values('Severity.Rate', ascending=False)\n",
    "print(injuries_most[['Severity.Rate']])\n"
   ]
  },
  {
   "cell_type": "markdown",
   "metadata": {},
   "source": [
    "Boeing stands out with the highest severity rate among the top 10: 2.49, meaning that on average, each Boeing accident involved more than 2 severe or fatal injuries. Other large manufacturers like Beech, Mooney, and Bell have moderate severity rates, ranging from 0.4 to 0.8. Despite being the most accidented, Cessna and Piper show lower severity rates (~0.47 and ~0.61), suggesting that their accidents are frequent but often less deadly."
   ]
  },
  {
   "cell_type": "markdown",
   "metadata": {},
   "source": [
    "# 📊 Top 10 Aircraft Manufacturers by Accident Severity Rate"
   ]
  },
  {
   "cell_type": "code",
   "execution_count": 30,
   "metadata": {},
   "outputs": [
    {
     "data": {
      "image/png": "[encoded data removed]",
      "text/plain": [
       "<Figure size 576x576 with 1 Axes>"
      ]
     },
     "metadata": {},
     "output_type": "display_data"
    }
   ],
   "source": [
    "import matplotlib.pyplot as plt\n",
    "\n",
    "# Data to plot\n",
    "labels = injuries_most.index\n",
    "sizes = injuries_most['Severity.Rate']\n",
    "\n",
    "# Create the pie chart\n",
    "plt.figure(figsize=(8, 8))\n",
    "plt.pie(\n",
    "    sizes,\n",
    "    labels=labels,\n",
    "    autopct='%1.1f%%',\n",
    "    startangle=140,\n",
    "    shadow=True,\n",
    "    wedgeprops={'edgecolor': 'black'}\n",
    ")\n",
    "\n",
    "plt.title('Proportion of Severity Rate by Manufacturer', fontsize=14)\n",
    "plt.axis('equal')  # Ensures the pie is a circle\n",
    "plt.tight_layout()\n",
    "\n",
    "# Display the chart\n",
    "plt.show()\n"
   ]
  },
  {
   "cell_type": "markdown",
   "metadata": {},
   "source": [
    "Conclusion: Accident frequency does not necessarily correlate with accident severity.Small manufacturers may have fewer accidents, but when accidents happen, they tend to be more serious, possibly due to limited safety features, older aircraft, or less regulatory oversight.\n",
    "In contrast, large manufacturers like Cessna and Piper may have more frequent accidents due to a larger fleet size, but their severity is generally lower, indicating better safety standards or more minor incidents.Boeing, however, combines both high accident frequency and high severity, which may reflect the larger size and capacity of its aircraft — a single accident can involve many people."
   ]
  },
  {
   "cell_type": "markdown",
   "metadata": {},
   "source": [
    "# 6. Distribution of Amateur-Built Aircraft Involved in Accidents\n"
   ]
  },
  {
   "cell_type": "code",
   "execution_count": 46,
   "metadata": {
    "collapsed": true
   },
   "outputs": [
    {
     "data": {
      "image/png": "[encoded data removed]",
      "text/plain": [
       "<Figure size 432x432 with 1 Axes>"
      ]
     },
     "metadata": {},
     "output_type": "display_data"
    }
   ],
   "source": [
    "# Count the unique values in the 'Amateur.Built' column\n",
    "amateur_counts = df['Amateur.Built'].value_counts()\n",
    "\n",
    "# Create the pie chart\n",
    "plt.figure(figsize=(6,6))\n",
    "plt.pie(\n",
    "    amateur_counts,\n",
    "    labels=amateur_counts.index,\n",
    "    autopct='%1.1f%%',\n",
    "    startangle=140,\n",
    "    colors=['#66b3ff', '#ff9999']\n",
    ")\n",
    "plt.title('Proportion of Amateur-Built Aircraft (Yes vs No)')\n",
    "plt.axis('equal')  # Makes sure the pie chart is circular\n",
    "plt.show()\n"
   ]
  },
  {
   "cell_type": "markdown",
   "metadata": {},
   "source": [
    "# 7. Accident Count by Weather Condition and Manufacturer – Low-Accident Manufacturers"
   ]
  },
  {
   "cell_type": "code",
   "execution_count": 31,
   "metadata": {},
   "outputs": [
    {
     "data": {
      "image/png": "[encoded data removed]",
      "text/plain": [
       "<Figure size 864x432 with 1 Axes>"
      ]
     },
     "metadata": {
      "needs_background": "light"
     },
     "output_type": "display_data"
    }
   ],
   "source": [
    "# Filter dataset for least accident-prone manufacturers\n",
    "df_least = df[df['Make'].isin(least_accident_makers.index)]\n",
    "\n",
    "# Plot: Weather conditions per aircraft make\n",
    "plt.figure(figsize=(12, 6))\n",
    "sns.countplot(data=df_least, x='Make', hue='Weather.Condition', palette='Set2')\n",
    "plt.title('Accident Count by Weather Condition and Manufacturer\\n(Low-Accident Manufacturers)')\n",
    "plt.xlabel('Aircraft Manufacturer')\n",
    "plt.ylabel('Number of Accidents')\n",
    "plt.xticks(rotation=45)\n",
    "plt.legend(title='Weather Condition')\n",
    "plt.tight_layout()\n",
    "plt.show()"
   ]
  },
  {
   "cell_type": "markdown",
   "metadata": {},
   "source": [
    "**Accident Count by Weather Condition and Manufacturer – High-Accident Manufacturers**"
   ]
  },
  {
   "cell_type": "code",
   "execution_count": 32,
   "metadata": {},
   "outputs": [
    {
     "data": {
      "image/png": "[encoded data removed]",
      "text/plain": [
       "<Figure size 864x432 with 1 Axes>"
      ]
     },
     "metadata": {
      "needs_background": "light"
     },
     "output_type": "display_data"
    }
   ],
   "source": [
    "# Filter dataset for most accident-prone manufacturers\n",
    "df_most = df[df['Make'].isin(most_accident_makers.index)]\n",
    "\n",
    "# Plot: Weather conditions per aircraft make\n",
    "plt.figure(figsize=(12, 6))\n",
    "sns.countplot(data=df_most, x='Make', hue='Weather.Condition', palette='Set2')\n",
    "plt.title('Accident Count by Weather Condition and Manufacturer\\n(High-Accident Manufacturers)')\n",
    "plt.xlabel('Aircraft Manufacturer')\n",
    "plt.ylabel('Number of Accidents')\n",
    "plt.xticks(rotation=45)\n",
    "plt.legend(title='Weather Condition')\n",
    "plt.tight_layout()\n",
    "plt.show()\n"
   ]
  },
  {
   "cell_type": "markdown",
   "metadata": {},
   "source": [
    "Based on these two graphs related to weather conditions, most accidents across both groups occurred in VMC (Visual Meteorological Conditions) — indicating that poor weather is not the main driver of accidents.\n",
    "\n",
    "High-accident manufacturers also experienced incidents in IMC (Instrument Meteorological Conditions), reflecting greater operational complexity and highlighting the need for more advanced pilot training and specialized equipment."
   ]
  },
  {
   "cell_type": "markdown",
   "metadata": {},
   "source": [
    "# 8. Visualize Aircraft Accident Distribution Across US States to Identify High-Risk Areas"
   ]
  },
  {
   "cell_type": "code",
   "execution_count": 93,
   "metadata": {},
   "outputs": [
    {
     "data": {
      "application/vnd.plotly.v1+json": {
       "config": {
        "plotlyServerURL": "https://plot.ly"
       },
       "data": [
        {
         "coloraxis": "coloraxis",
         "geo": "geo",
         "hovertemplate": "StateCode=%{location}<br>Number of Accidents=%{z}<extra></extra>",
         "locationmode": "USA-states",
         "locations": [
          "CA",
          "TX",
          "FL",
          "AK",
          "AZ",
          "CO",
          "WA",
          "MI",
          "GA",
          "IL",
          "NY",
          "OH",
          "PA",
          "OR",
          "NC",
          "WI",
          "AR",
          "MO",
          "MN",
          "ID",
          "NM",
          "UT",
          "IN",
          "VA",
          "OK",
          "NV",
          "LA",
          "AL",
          "NJ",
          "KS",
          "TN",
          "MT",
          "SC",
          "MA",
          "IA",
          "MS",
          "MD",
          "WY",
          "NE",
          "KY",
          "ND",
          "CT",
          "ME",
          "HI",
          "SD",
          "WV",
          "NH",
          "VT",
          "RI",
          "DE",
          "DC"
         ],
         "name": "",
         "type": "choropleth",
         "z": [
          8689,
          5752,
          5559,
          5541,
          2802,
          2576,
          2551,
          1980,
          1929,
          1873,
          1825,
          1771,
          1757,
          1748,
          1618,
          1523,
          1508,
          1505,
          1428,
          1423,
          1345,
          1312,
          1290,
          1242,
          1221,
          1201,
          1181,
          1131,
          1112,
          1085,
          1070,
          1042,
          956,
          928,
          807,
          802,
          794,
          721,
          711,
          618,
          553,
          493,
          491,
          475,
          438,
          381,
          365,
          238,
          156,
          112,
          16
         ]
        }
       ],
       "layout": {
        "coloraxis": {
         "colorbar": {
          "title": {
           "text": "Number of Accidents"
          }
         },
         "colorscale": [
          [
           0,
           "rgb(255,245,240)"
          ],
          [
           0.125,
           "rgb(254,224,210)"
          ],
          [
           0.25,
           "rgb(252,187,161)"
          ],
          [
           0.375,
           "rgb(252,146,114)"
          ],
          [
           0.5,
           "rgb(251,106,74)"
          ],
          [
           0.625,
           "rgb(239,59,44)"
          ],
          [
           0.75,
           "rgb(203,24,29)"
          ],
          [
           0.875,
           "rgb(165,15,21)"
          ],
          [
           1,
           "rgb(103,0,13)"
          ]
         ]
        },
        "geo": {
         "center": {},
         "domain": {
          "x": [
           0,
           1
          ],
          "y": [
           0,
           1
          ]
         },
         "scope": "usa"
        },
        "legend": {
         "tracegroupgap": 0
        },
        "template": {
         "data": {
          "bar": [
           {
            "error_x": {
             "color": "#2a3f5f"
            },
            "error_y": {
             "color": "#2a3f5f"
            },
            "marker": {
             "line": {
              "color": "#E5ECF6",
              "width": 0.5
             }
            },
            "type": "bar"
           }
          ],
          "barpolar": [
           {
            "marker": {
             "line": {
              "color": "#E5ECF6",
              "width": 0.5
             }
            },
            "type": "barpolar"
           }
          ],
          "carpet": [
           {
            "aaxis": {
             "endlinecolor": "#2a3f5f",
             "gridcolor": "white",
             "linecolor": "white",
             "minorgridcolor": "white",
             "startlinecolor": "#2a3f5f"
            },
            "baxis": {
             "endlinecolor": "#2a3f5f",
             "gridcolor": "white",
             "linecolor": "white",
             "minorgridcolor": "white",
             "startlinecolor": "#2a3f5f"
            },
            "type": "carpet"
           }
          ],
          "choropleth": [
           {
            "colorbar": {
             "outlinewidth": 0,
             "ticks": ""
            },
            "type": "choropleth"
           }
          ],
          "contour": [
           {
            "colorbar": {
             "outlinewidth": 0,
             "ticks": ""
            },
            "colorscale": [
             [
              0,
              "#0d0887"
             ],
             [
              0.1111111111111111,
              "#46039f"
             ],
             [
              0.2222222222222222,
              "#7201a8"
             ],
             [
              0.3333333333333333,
              "#9c179e"
             ],
             [
              0.4444444444444444,
              "#bd3786"
             ],
             [
              0.5555555555555556,
              "#d8576b"
             ],
             [
              0.6666666666666666,
              "#ed7953"
             ],
             [
              0.7777777777777778,
              "#fb9f3a"
             ],
             [
              0.8888888888888888,
              "#fdca26"
             ],
             [
              1,
              "#f0f921"
             ]
            ],
            "type": "contour"
           }
          ],
          "contourcarpet": [
           {
            "colorbar": {
             "outlinewidth": 0,
             "ticks": ""
            },
            "type": "contourcarpet"
           }
          ],
          "heatmap": [
           {
            "colorbar": {
             "outlinewidth": 0,
             "ticks": ""
            },
            "colorscale": [
             [
              0,
              "#0d0887"
             ],
             [
              0.1111111111111111,
              "#46039f"
             ],
             [
              0.2222222222222222,
              "#7201a8"
             ],
             [
              0.3333333333333333,
              "#9c179e"
             ],
             [
              0.4444444444444444,
              "#bd3786"
             ],
             [
              0.5555555555555556,
              "#d8576b"
             ],
             [
              0.6666666666666666,
              "#ed7953"
             ],
             [
              0.7777777777777778,
              "#fb9f3a"
             ],
             [
              0.8888888888888888,
              "#fdca26"
             ],
             [
              1,
              "#f0f921"
             ]
            ],
            "type": "heatmap"
           }
          ],
          "heatmapgl": [
           {
            "colorbar": {
             "outlinewidth": 0,
             "ticks": ""
            },
            "colorscale": [
             [
              0,
              "#0d0887"
             ],
             [
              0.1111111111111111,
              "#46039f"
             ],
             [
              0.2222222222222222,
              "#7201a8"
             ],
             [
              0.3333333333333333,
              "#9c179e"
             ],
             [
              0.4444444444444444,
              "#bd3786"
             ],
             [
              0.5555555555555556,
              "#d8576b"
             ],
             [
              0.6666666666666666,
              "#ed7953"
             ],
             [
              0.7777777777777778,
              "#fb9f3a"
             ],
             [
              0.8888888888888888,
              "#fdca26"
             ],
             [
              1,
              "#f0f921"
             ]
            ],
            "type": "heatmapgl"
           }
          ],
          "histogram": [
           {
            "marker": {
             "colorbar": {
              "outlinewidth": 0,
              "ticks": ""
             }
            },
            "type": "histogram"
           }
          ],
          "histogram2d": [
           {
            "colorbar": {
             "outlinewidth": 0,
             "ticks": ""
            },
            "colorscale": [
             [
              0,
              "#0d0887"
             ],
             [
              0.1111111111111111,
              "#46039f"
             ],
             [
              0.2222222222222222,
              "#7201a8"
             ],
             [
              0.3333333333333333,
              "#9c179e"
             ],
             [
              0.4444444444444444,
              "#bd3786"
             ],
             [
              0.5555555555555556,
              "#d8576b"
             ],
             [
              0.6666666666666666,
              "#ed7953"
             ],
             [
              0.7777777777777778,
              "#fb9f3a"
             ],
             [
              0.8888888888888888,
              "#fdca26"
             ],
             [
              1,
              "#f0f921"
             ]
            ],
            "type": "histogram2d"
           }
          ],
          "histogram2dcontour": [
           {
            "colorbar": {
             "outlinewidth": 0,
             "ticks": ""
            },
            "colorscale": [
             [
              0,
              "#0d0887"
             ],
             [
              0.1111111111111111,
              "#46039f"
             ],
             [
              0.2222222222222222,
              "#7201a8"
             ],
             [
              0.3333333333333333,
              "#9c179e"
             ],
             [
              0.4444444444444444,
              "#bd3786"
             ],
             [
              0.5555555555555556,
              "#d8576b"
             ],
             [
              0.6666666666666666,
              "#ed7953"
             ],
             [
              0.7777777777777778,
              "#fb9f3a"
             ],
             [
              0.8888888888888888,
              "#fdca26"
             ],
             [
              1,
              "#f0f921"
             ]
            ],
            "type": "histogram2dcontour"
           }
          ],
          "mesh3d": [
           {
            "colorbar": {
             "outlinewidth": 0,
             "ticks": ""
            },
            "type": "mesh3d"
           }
          ],
          "parcoords": [
           {
            "line": {
             "colorbar": {
              "outlinewidth": 0,
              "ticks": ""
             }
            },
            "type": "parcoords"
           }
          ],
          "pie": [
           {
            "automargin": true,
            "type": "pie"
           }
          ],
          "scatter": [
           {
            "marker": {
             "colorbar": {
              "outlinewidth": 0,
              "ticks": ""
             }
            },
            "type": "scatter"
           }
          ],
          "scatter3d": [
           {
            "line": {
             "colorbar": {
              "outlinewidth": 0,
              "ticks": ""
             }
            },
            "marker": {
             "colorbar": {
              "outlinewidth": 0,
              "ticks": ""
             }
            },
            "type": "scatter3d"
           }
          ],
          "scattercarpet": [
           {
            "marker": {
             "colorbar": {
              "outlinewidth": 0,
              "ticks": ""
             }
            },
            "type": "scattercarpet"
           }
          ],
          "scattergeo": [
           {
            "marker": {
             "colorbar": {
              "outlinewidth": 0,
              "ticks": ""
             }
            },
            "type": "scattergeo"
           }
          ],
          "scattergl": [
           {
            "marker": {
             "colorbar": {
              "outlinewidth": 0,
              "ticks": ""
             }
            },
            "type": "scattergl"
           }
          ],
          "scattermapbox": [
           {
            "marker": {
             "colorbar": {
              "outlinewidth": 0,
              "ticks": ""
             }
            },
            "type": "scattermapbox"
           }
          ],
          "scatterpolar": [
           {
            "marker": {
             "colorbar": {
              "outlinewidth": 0,
              "ticks": ""
             }
            },
            "type": "scatterpolar"
           }
          ],
          "scatterpolargl": [
           {
            "marker": {
             "colorbar": {
              "outlinewidth": 0,
              "ticks": ""
             }
            },
            "type": "scatterpolargl"
           }
          ],
          "scatterternary": [
           {
            "marker": {
             "colorbar": {
              "outlinewidth": 0,
              "ticks": ""
             }
            },
            "type": "scatterternary"
           }
          ],
          "surface": [
           {
            "colorbar": {
             "outlinewidth": 0,
             "ticks": ""
            },
            "colorscale": [
             [
              0,
              "#0d0887"
             ],
             [
              0.1111111111111111,
              "#46039f"
             ],
             [
              0.2222222222222222,
              "#7201a8"
             ],
             [
              0.3333333333333333,
              "#9c179e"
             ],
             [
              0.4444444444444444,
              "#bd3786"
             ],
             [
              0.5555555555555556,
              "#d8576b"
             ],
             [
              0.6666666666666666,
              "#ed7953"
             ],
             [
              0.7777777777777778,
              "#fb9f3a"
             ],
             [
              0.8888888888888888,
              "#fdca26"
             ],
             [
              1,
              "#f0f921"
             ]
            ],
            "type": "surface"
           }
          ],
          "table": [
           {
            "cells": {
             "fill": {
              "color": "#EBF0F8"
             },
             "line": {
              "color": "white"
             }
            },
            "header": {
             "fill": {
              "color": "#C8D4E3"
             },
             "line": {
              "color": "white"
             }
            },
            "type": "table"
           }
          ]
         },
         "layout": {
          "annotationdefaults": {
           "arrowcolor": "#2a3f5f",
           "arrowhead": 0,
           "arrowwidth": 1
          },
          "coloraxis": {
           "colorbar": {
            "outlinewidth": 0,
            "ticks": ""
           }
          },
          "colorscale": {
           "diverging": [
            [
             0,
             "#8e0152"
            ],
            [
             0.1,
             "#c51b7d"
            ],
            [
             0.2,
             "#de77ae"
            ],
            [
             0.3,
             "#f1b6da"
            ],
            [
             0.4,
             "#fde0ef"
            ],
            [
             0.5,
             "#f7f7f7"
            ],
            [
             0.6,
             "#e6f5d0"
            ],
            [
             0.7,
             "#b8e186"
            ],
            [
             0.8,
             "#7fbc41"
            ],
            [
             0.9,
             "#4d9221"
            ],
            [
             1,
             "#276419"
            ]
           ],
           "sequential": [
            [
             0,
             "#0d0887"
            ],
            [
             0.1111111111111111,
             "#46039f"
            ],
            [
             0.2222222222222222,
             "#7201a8"
            ],
            [
             0.3333333333333333,
             "#9c179e"
            ],
            [
             0.4444444444444444,
             "#bd3786"
            ],
            [
             0.5555555555555556,
             "#d8576b"
            ],
            [
             0.6666666666666666,
             "#ed7953"
            ],
            [
             0.7777777777777778,
             "#fb9f3a"
            ],
            [
             0.8888888888888888,
             "#fdca26"
            ],
            [
             1,
             "#f0f921"
            ]
           ],
           "sequentialminus": [
            [
             0,
             "#0d0887"
            ],
            [
             0.1111111111111111,
             "#46039f"
            ],
            [
             0.2222222222222222,
             "#7201a8"
            ],
            [
             0.3333333333333333,
             "#9c179e"
            ],
            [
             0.4444444444444444,
             "#bd3786"
            ],
            [
             0.5555555555555556,
             "#d8576b"
            ],
            [
             0.6666666666666666,
             "#ed7953"
            ],
            [
             0.7777777777777778,
             "#fb9f3a"
            ],
            [
             0.8888888888888888,
             "#fdca26"
            ],
            [
             1,
             "#f0f921"
            ]
           ]
          },
          "colorway": [
           "#636efa",
           "#EF553B",
           "#00cc96",
           "#ab63fa",
           "#FFA15A",
           "#19d3f3",
           "#FF6692",
           "#B6E880",
           "#FF97FF",
           "#FECB52"
          ],
          "font": {
           "color": "#2a3f5f"
          },
          "geo": {
           "bgcolor": "white",
           "lakecolor": "white",
           "landcolor": "#E5ECF6",
           "showlakes": true,
           "showland": true,
           "subunitcolor": "white"
          },
          "hoverlabel": {
           "align": "left"
          },
          "hovermode": "closest",
          "mapbox": {
           "style": "light"
          },
          "paper_bgcolor": "white",
          "plot_bgcolor": "#E5ECF6",
          "polar": {
           "angularaxis": {
            "gridcolor": "white",
            "linecolor": "white",
            "ticks": ""
           },
           "bgcolor": "#E5ECF6",
           "radialaxis": {
            "gridcolor": "white",
            "linecolor": "white",
            "ticks": ""
           }
          },
          "scene": {
           "xaxis": {
            "backgroundcolor": "#E5ECF6",
            "gridcolor": "white",
            "gridwidth": 2,
            "linecolor": "white",
            "showbackground": true,
            "ticks": "",
            "zerolinecolor": "white"
           },
           "yaxis": {
            "backgroundcolor": "#E5ECF6",
            "gridcolor": "white",
            "gridwidth": 2,
            "linecolor": "white",
            "showbackground": true,
            "ticks": "",
            "zerolinecolor": "white"
           },
           "zaxis": {
            "backgroundcolor": "#E5ECF6",
            "gridcolor": "white",
            "gridwidth": 2,
            "linecolor": "white",
            "showbackground": true,
            "ticks": "",
            "zerolinecolor": "white"
           }
          },
          "shapedefaults": {
           "line": {
            "color": "#2a3f5f"
           }
          },
          "ternary": {
           "aaxis": {
            "gridcolor": "white",
            "linecolor": "white",
            "ticks": ""
           },
           "baxis": {
            "gridcolor": "white",
            "linecolor": "white",
            "ticks": ""
           },
           "bgcolor": "#E5ECF6",
           "caxis": {
            "gridcolor": "white",
            "linecolor": "white",
            "ticks": ""
           }
          },
          "title": {
           "x": 0.05
          },
          "xaxis": {
           "automargin": true,
           "gridcolor": "white",
           "linecolor": "white",
           "ticks": "",
           "title": {
            "standoff": 15
           },
           "zerolinecolor": "white",
           "zerolinewidth": 2
          },
          "yaxis": {
           "automargin": true,
           "gridcolor": "white",
           "linecolor": "white",
           "ticks": "",
           "title": {
            "standoff": 15
           },
           "zerolinecolor": "white",
           "zerolinewidth": 2
          }
         }
        },
        "title": {
         "text": "Interactive Map: Aircraft Accidents by US State"
        }
       }
      },
      "text/html": [
       "<div>                            <div id=\"7381d604-b9e3-4947-b4c0-45283b89dfde\" class=\"plotly-graph-div\" style=\"height:525px; width:100%;\"></div>            <script type=\"text/javascript\">                require([\"plotly\"], function(Plotly) {                    window.PLOTLYENV=window.PLOTLYENV || {};                                    if (document.getElementById(\"7381d604-b9e3-4947-b4c0-45283b89dfde\")) {                    Plotly.newPlot(                        \"7381d604-b9e3-4947-b4c0-45283b89dfde\",                        [{\"coloraxis\": \"coloraxis\", \"geo\": \"geo\", \"hovertemplate\": \"StateCode=%{location}<br>Number of Accidents=%{z}<extra></extra>\", \"locationmode\": \"USA-states\", \"locations\": [\"CA\", \"TX\", \"FL\", \"AK\", \"AZ\", \"CO\", \"WA\", \"MI\", \"GA\", \"IL\", \"NY\", \"OH\", \"PA\", \"OR\", \"NC\", \"WI\", \"AR\", \"MO\", \"MN\", \"ID\", \"NM\", \"UT\", \"IN\", \"VA\", \"OK\", \"NV\", \"LA\", \"AL\", \"NJ\", \"KS\", \"TN\", \"MT\", \"SC\", \"MA\", \"IA\", \"MS\", \"MD\", \"WY\", \"NE\", \"KY\", \"ND\", \"CT\", \"ME\", \"HI\", \"SD\", \"WV\", \"NH\", \"VT\", \"RI\", \"DE\", \"DC\"], \"name\": \"\", \"type\": \"choropleth\", \"z\": [8689, 5752, 5559, 5541, 2802, 2576, 2551, 1980, 1929, 1873, 1825, 1771, 1757, 1748, 1618, 1523, 1508, 1505, 1428, 1423, 1345, 1312, 1290, 1242, 1221, 1201, 1181, 1131, 1112, 1085, 1070, 1042, 956, 928, 807, 802, 794, 721, 711, 618, 553, 493, 491, 475, 438, 381, 365, 238, 156, 112, 16]}],                        {\"coloraxis\": {\"colorbar\": {\"title\": {\"text\": \"Number of Accidents\"}}, \"colorscale\": [[0.0, \"rgb(255,245,240)\"], [0.125, \"rgb(254,224,210)\"], [0.25, \"rgb(252,187,161)\"], [0.375, \"rgb(252,146,114)\"], [0.5, \"rgb(251,106,74)\"], [0.625, \"rgb(239,59,44)\"], [0.75, \"rgb(203,24,29)\"], [0.875, \"rgb(165,15,21)\"], [1.0, \"rgb(103,0,13)\"]]}, \"geo\": {\"center\": {}, \"domain\": {\"x\": [0.0, 1.0], \"y\": [0.0, 1.0]}, \"scope\": \"usa\"}, \"legend\": {\"tracegroupgap\": 0}, \"template\": {\"data\": {\"bar\": [{\"error_x\": {\"color\": \"#2a3f5f\"}, \"error_y\": {\"color\": \"#2a3f5f\"}, \"marker\": {\"line\": {\"color\": \"#E5ECF6\", \"width\": 0.5}}, \"type\": \"bar\"}], \"barpolar\": [{\"marker\": {\"line\": {\"color\": \"#E5ECF6\", \"width\": 0.5}}, \"type\": \"barpolar\"}], \"carpet\": [{\"aaxis\": {\"endlinecolor\": \"#2a3f5f\", \"gridcolor\": \"white\", \"linecolor\": \"white\", \"minorgridcolor\": \"white\", \"startlinecolor\": \"#2a3f5f\"}, \"baxis\": {\"endlinecolor\": \"#2a3f5f\", \"gridcolor\": \"white\", \"linecolor\": \"white\", \"minorgridcolor\": \"white\", \"startlinecolor\": \"#2a3f5f\"}, \"type\": \"carpet\"}], \"choropleth\": [{\"colorbar\": {\"outlinewidth\": 0, \"ticks\": \"\"}, \"type\": \"choropleth\"}], \"contour\": [{\"colorbar\": {\"outlinewidth\": 0, \"ticks\": \"\"}, \"colorscale\": [[0.0, \"#0d0887\"], [0.1111111111111111, \"#46039f\"], [0.2222222222222222, \"#7201a8\"], [0.3333333333333333, \"#9c179e\"], [0.4444444444444444, \"#bd3786\"], [0.5555555555555556, \"#d8576b\"], [0.6666666666666666, \"#ed7953\"], [0.7777777777777778, \"#fb9f3a\"], [0.8888888888888888, \"#fdca26\"], [1.0, \"#f0f921\"]], \"type\": \"contour\"}], \"contourcarpet\": [{\"colorbar\": {\"outlinewidth\": 0, \"ticks\": \"\"}, \"type\": \"contourcarpet\"}], \"heatmap\": [{\"colorbar\": {\"outlinewidth\": 0, \"ticks\": \"\"}, \"colorscale\": [[0.0, \"#0d0887\"], [0.1111111111111111, \"#46039f\"], [0.2222222222222222, \"#7201a8\"], [0.3333333333333333, \"#9c179e\"], [0.4444444444444444, \"#bd3786\"], [0.5555555555555556, \"#d8576b\"], [0.6666666666666666, \"#ed7953\"], [0.7777777777777778, \"#fb9f3a\"], [0.8888888888888888, \"#fdca26\"], [1.0, \"#f0f921\"]], \"type\": \"heatmap\"}], \"heatmapgl\": [{\"colorbar\": {\"outlinewidth\": 0, \"ticks\": \"\"}, \"colorscale\": [[0.0, \"#0d0887\"], [0.1111111111111111, \"#46039f\"], [0.2222222222222222, \"#7201a8\"], [0.3333333333333333, \"#9c179e\"], [0.4444444444444444, \"#bd3786\"], [0.5555555555555556, \"#d8576b\"], [0.6666666666666666, \"#ed7953\"], [0.7777777777777778, \"#fb9f3a\"], [0.8888888888888888, \"#fdca26\"], [1.0, \"#f0f921\"]], \"type\": \"heatmapgl\"}], \"histogram\": [{\"marker\": {\"colorbar\": {\"outlinewidth\": 0, \"ticks\": \"\"}}, \"type\": \"histogram\"}], \"histogram2d\": [{\"colorbar\": {\"outlinewidth\": 0, \"ticks\": \"\"}, \"colorscale\": [[0.0, \"#0d0887\"], [0.1111111111111111, \"#46039f\"], [0.2222222222222222, \"#7201a8\"], [0.3333333333333333, \"#9c179e\"], [0.4444444444444444, \"#bd3786\"], [0.5555555555555556, \"#d8576b\"], [0.6666666666666666, \"#ed7953\"], [0.7777777777777778, \"#fb9f3a\"], [0.8888888888888888, \"#fdca26\"], [1.0, \"#f0f921\"]], \"type\": \"histogram2d\"}], \"histogram2dcontour\": [{\"colorbar\": {\"outlinewidth\": 0, \"ticks\": \"\"}, \"colorscale\": [[0.0, \"#0d0887\"], [0.1111111111111111, \"#46039f\"], [0.2222222222222222, \"#7201a8\"], [0.3333333333333333, \"#9c179e\"], [0.4444444444444444, \"#bd3786\"], [0.5555555555555556, \"#d8576b\"], [0.6666666666666666, \"#ed7953\"], [0.7777777777777778, \"#fb9f3a\"], [0.8888888888888888, \"#fdca26\"], [1.0, \"#f0f921\"]], \"type\": \"histogram2dcontour\"}], \"mesh3d\": [{\"colorbar\": {\"outlinewidth\": 0, \"ticks\": \"\"}, \"type\": \"mesh3d\"}], \"parcoords\": [{\"line\": {\"colorbar\": {\"outlinewidth\": 0, \"ticks\": \"\"}}, \"type\": \"parcoords\"}], \"pie\": [{\"automargin\": true, \"type\": \"pie\"}], \"scatter\": [{\"marker\": {\"colorbar\": {\"outlinewidth\": 0, \"ticks\": \"\"}}, \"type\": \"scatter\"}], \"scatter3d\": [{\"line\": {\"colorbar\": {\"outlinewidth\": 0, \"ticks\": \"\"}}, \"marker\": {\"colorbar\": {\"outlinewidth\": 0, \"ticks\": \"\"}}, \"type\": \"scatter3d\"}], \"scattercarpet\": [{\"marker\": {\"colorbar\": {\"outlinewidth\": 0, \"ticks\": \"\"}}, \"type\": \"scattercarpet\"}], \"scattergeo\": [{\"marker\": {\"colorbar\": {\"outlinewidth\": 0, \"ticks\": \"\"}}, \"type\": \"scattergeo\"}], \"scattergl\": [{\"marker\": {\"colorbar\": {\"outlinewidth\": 0, \"ticks\": \"\"}}, \"type\": \"scattergl\"}], \"scattermapbox\": [{\"marker\": {\"colorbar\": {\"outlinewidth\": 0, \"ticks\": \"\"}}, \"type\": \"scattermapbox\"}], \"scatterpolar\": [{\"marker\": {\"colorbar\": {\"outlinewidth\": 0, \"ticks\": \"\"}}, \"type\": \"scatterpolar\"}], \"scatterpolargl\": [{\"marker\": {\"colorbar\": {\"outlinewidth\": 0, \"ticks\": \"\"}}, \"type\": \"scatterpolargl\"}], \"scatterternary\": [{\"marker\": {\"colorbar\": {\"outlinewidth\": 0, \"ticks\": \"\"}}, \"type\": \"scatterternary\"}], \"surface\": [{\"colorbar\": {\"outlinewidth\": 0, \"ticks\": \"\"}, \"colorscale\": [[0.0, \"#0d0887\"], [0.1111111111111111, \"#46039f\"], [0.2222222222222222, \"#7201a8\"], [0.3333333333333333, \"#9c179e\"], [0.4444444444444444, \"#bd3786\"], [0.5555555555555556, \"#d8576b\"], [0.6666666666666666, \"#ed7953\"], [0.7777777777777778, \"#fb9f3a\"], [0.8888888888888888, \"#fdca26\"], [1.0, \"#f0f921\"]], \"type\": \"surface\"}], \"table\": [{\"cells\": {\"fill\": {\"color\": \"#EBF0F8\"}, \"line\": {\"color\": \"white\"}}, \"header\": {\"fill\": {\"color\": \"#C8D4E3\"}, \"line\": {\"color\": \"white\"}}, \"type\": \"table\"}]}, \"layout\": {\"annotationdefaults\": {\"arrowcolor\": \"#2a3f5f\", \"arrowhead\": 0, \"arrowwidth\": 1}, \"coloraxis\": {\"colorbar\": {\"outlinewidth\": 0, \"ticks\": \"\"}}, \"colorscale\": {\"diverging\": [[0, \"#8e0152\"], [0.1, \"#c51b7d\"], [0.2, \"#de77ae\"], [0.3, \"#f1b6da\"], [0.4, \"#fde0ef\"], [0.5, \"#f7f7f7\"], [0.6, \"#e6f5d0\"], [0.7, \"#b8e186\"], [0.8, \"#7fbc41\"], [0.9, \"#4d9221\"], [1, \"#276419\"]], \"sequential\": [[0.0, \"#0d0887\"], [0.1111111111111111, \"#46039f\"], [0.2222222222222222, \"#7201a8\"], [0.3333333333333333, \"#9c179e\"], [0.4444444444444444, \"#bd3786\"], [0.5555555555555556, \"#d8576b\"], [0.6666666666666666, \"#ed7953\"], [0.7777777777777778, \"#fb9f3a\"], [0.8888888888888888, \"#fdca26\"], [1.0, \"#f0f921\"]], \"sequentialminus\": [[0.0, \"#0d0887\"], [0.1111111111111111, \"#46039f\"], [0.2222222222222222, \"#7201a8\"], [0.3333333333333333, \"#9c179e\"], [0.4444444444444444, \"#bd3786\"], [0.5555555555555556, \"#d8576b\"], [0.6666666666666666, \"#ed7953\"], [0.7777777777777778, \"#fb9f3a\"], [0.8888888888888888, \"#fdca26\"], [1.0, \"#f0f921\"]]}, \"colorway\": [\"#636efa\", \"#EF553B\", \"#00cc96\", \"#ab63fa\", \"#FFA15A\", \"#19d3f3\", \"#FF6692\", \"#B6E880\", \"#FF97FF\", \"#FECB52\"], \"font\": {\"color\": \"#2a3f5f\"}, \"geo\": {\"bgcolor\": \"white\", \"lakecolor\": \"white\", \"landcolor\": \"#E5ECF6\", \"showlakes\": true, \"showland\": true, \"subunitcolor\": \"white\"}, \"hoverlabel\": {\"align\": \"left\"}, \"hovermode\": \"closest\", \"mapbox\": {\"style\": \"light\"}, \"paper_bgcolor\": \"white\", \"plot_bgcolor\": \"#E5ECF6\", \"polar\": {\"angularaxis\": {\"gridcolor\": \"white\", \"linecolor\": \"white\", \"ticks\": \"\"}, \"bgcolor\": \"#E5ECF6\", \"radialaxis\": {\"gridcolor\": \"white\", \"linecolor\": \"white\", \"ticks\": \"\"}}, \"scene\": {\"xaxis\": {\"backgroundcolor\": \"#E5ECF6\", \"gridcolor\": \"white\", \"gridwidth\": 2, \"linecolor\": \"white\", \"showbackground\": true, \"ticks\": \"\", \"zerolinecolor\": \"white\"}, \"yaxis\": {\"backgroundcolor\": \"#E5ECF6\", \"gridcolor\": \"white\", \"gridwidth\": 2, \"linecolor\": \"white\", \"showbackground\": true, \"ticks\": \"\", \"zerolinecolor\": \"white\"}, \"zaxis\": {\"backgroundcolor\": \"#E5ECF6\", \"gridcolor\": \"white\", \"gridwidth\": 2, \"linecolor\": \"white\", \"showbackground\": true, \"ticks\": \"\", \"zerolinecolor\": \"white\"}}, \"shapedefaults\": {\"line\": {\"color\": \"#2a3f5f\"}}, \"ternary\": {\"aaxis\": {\"gridcolor\": \"white\", \"linecolor\": \"white\", \"ticks\": \"\"}, \"baxis\": {\"gridcolor\": \"white\", \"linecolor\": \"white\", \"ticks\": \"\"}, \"bgcolor\": \"#E5ECF6\", \"caxis\": {\"gridcolor\": \"white\", \"linecolor\": \"white\", \"ticks\": \"\"}}, \"title\": {\"x\": 0.05}, \"xaxis\": {\"automargin\": true, \"gridcolor\": \"white\", \"linecolor\": \"white\", \"ticks\": \"\", \"title\": {\"standoff\": 15}, \"zerolinecolor\": \"white\", \"zerolinewidth\": 2}, \"yaxis\": {\"automargin\": true, \"gridcolor\": \"white\", \"linecolor\": \"white\", \"ticks\": \"\", \"title\": {\"standoff\": 15}, \"zerolinecolor\": \"white\", \"zerolinewidth\": 2}}}, \"title\": {\"text\": \"Interactive Map: Aircraft Accidents by US State\"}},                        {\"responsive\": true}                    ).then(function(){\n",
       "                            \n",
       "var gd = document.getElementById('7381d604-b9e3-4947-b4c0-45283b89dfde');\n",
       "var x = new MutationObserver(function (mutations, observer) {{\n",
       "        var display = window.getComputedStyle(gd).display;\n",
       "        if (!display || display === 'none') {{\n",
       "            console.log([gd, 'removed!']);\n",
       "            Plotly.purge(gd);\n",
       "            observer.disconnect();\n",
       "        }}\n",
       "}});\n",
       "\n",
       "// Listen for the removal of the full notebook cells\n",
       "var notebookContainer = gd.closest('#notebook-container');\n",
       "if (notebookContainer) {{\n",
       "    x.observe(notebookContainer, {childList: true});\n",
       "}}\n",
       "\n",
       "// Listen for the clearing of the current output cell\n",
       "var outputEl = gd.closest('.output');\n",
       "if (outputEl) {{\n",
       "    x.observe(outputEl, {childList: true});\n",
       "}}\n",
       "\n",
       "                        })                };                });            </script>        </div>"
      ]
     },
     "metadata": {},
     "output_type": "display_data"
    },
    {
     "data": {
      "text/plain": [
       "<Figure size 432x288 with 0 Axes>"
      ]
     },
     "metadata": {},
     "output_type": "display_data"
    }
   ],
   "source": [
    "import pandas as pd\n",
    "import plotly.express as px\n",
    "import numpy as np\n",
    "\n",
    "# Filter dataset for US only\n",
    "df_us = df[df['Country'] == 'United States']\n",
    "\n",
    "# Clean state names - remove unwanted entries\n",
    "valid_states = [\n",
    "    'Washington', 'New Jersey', 'Florida', 'New Mexico', 'Alabama',\n",
    "    'Louisiana', 'Texas', 'Oklahoma', 'Arkansas', 'Utah', 'Alaska',\n",
    "    'Pennsylvania', 'Michigan', 'Georgia', 'California', 'Virginia',\n",
    "    'North Carolina', 'New York', 'Montana', 'Oregon', 'Nevada',\n",
    "    'Indiana', 'Arizona', 'Missouri', 'Wyoming', 'Illinois',\n",
    "    'South Carolina', 'Maryland', 'Ohio', 'Hawaii', 'Colorado',\n",
    "    'Mississippi', 'Washington_DC', 'Idaho', 'Minnesota', 'Vermont',\n",
    "    'Kansas', 'New Hampshire', 'Iowa', 'Wisconsin', 'Massachusetts',\n",
    "    'Connecticut', 'Kentucky', 'Tennessee', 'Maine', 'South Dakota',\n",
    "    'Nebraska', 'Rhode Island', 'North Dakota', 'West Virginia',\n",
    "    'Delaware'\n",
    "]\n",
    "\n",
    "# Filter dataset for valid states only\n",
    "df_us = df_us[df_us['State.Name'].isin(valid_states)]\n",
    "\n",
    "# Count accidents per state\n",
    "accidents_by_state = df_us['State.Name'].value_counts().reset_index()\n",
    "accidents_by_state.columns = ['State', 'Accidents']\n",
    "\n",
    "# State name to postal code mapping, including DC\n",
    "us_state_to_code = {\n",
    "    'Alabama': 'AL', 'Alaska': 'AK', 'Arizona': 'AZ', 'Arkansas': 'AR',\n",
    "    'California': 'CA', 'Colorado': 'CO', 'Connecticut': 'CT', 'Delaware': 'DE',\n",
    "    'District of Columbia': 'DC', 'Washington_DC': 'DC',  # map this explicitly\n",
    "    'Florida': 'FL', 'Georgia': 'GA', 'Hawaii': 'HI', 'Idaho': 'ID',\n",
    "    'Illinois': 'IL', 'Indiana': 'IN', 'Iowa': 'IA', 'Kansas': 'KS',\n",
    "    'Kentucky': 'KY', 'Louisiana': 'LA', 'Maine': 'ME', 'Maryland': 'MD',\n",
    "    'Massachusetts': 'MA', 'Michigan': 'MI', 'Minnesota': 'MN', 'Mississippi': 'MS',\n",
    "    'Missouri': 'MO', 'Montana': 'MT', 'Nebraska': 'NE', 'Nevada': 'NV',\n",
    "    'New Hampshire': 'NH', 'New Jersey': 'NJ', 'New Mexico': 'NM',\n",
    "    'New York': 'NY', 'North Carolina': 'NC', 'North Dakota': 'ND',\n",
    "    'Ohio': 'OH', 'Oklahoma': 'OK', 'Oregon': 'OR', 'Pennsylvania': 'PA',\n",
    "    'Rhode Island': 'RI', 'South Carolina': 'SC', 'South Dakota': 'SD',\n",
    "    'Tennessee': 'TN', 'Texas': 'TX', 'Utah': 'UT', 'Vermont': 'VT',\n",
    "    'Virginia': 'VA', 'Washington': 'WA', 'West Virginia': 'WV',\n",
    "    'Wisconsin': 'WI', 'Wyoming': 'WY'\n",
    "}\n",
    "\n",
    "# Map full names to codes\n",
    "accidents_by_state['StateCode'] = accidents_by_state['State'].map(us_state_to_code)\n",
    "\n",
    "# Drop any states not mapped (if any)\n",
    "accidents_by_state = accidents_by_state.dropna(subset=['StateCode'])\n",
    "\n",
    "# Create interactive choropleth map\n",
    "fig = px.choropleth(\n",
    "    accidents_by_state,\n",
    "    locations='StateCode',\n",
    "    locationmode=\"USA-states\",\n",
    "    color='Accidents',\n",
    "    color_continuous_scale=\"Reds\",\n",
    "    scope=\"usa\",\n",
    "    labels={'Accidents': 'Number of Accidents'},\n",
    "    title=\"Interactive Map: Aircraft Accidents by US State\"\n",
    ")\n",
    "\n",
    "\n",
    "fig.show()\n",
    "\n",
    "\n"
   ]
  },
  {
   "cell_type": "markdown",
   "metadata": {},
   "source": [
    "California, Texas, and Florida show the highest number of aircraft accidents among US states. This indicates that these states represent higher-risk areas for aviation operations. For your company looking to invest and operate aircraft safely, it is crucial to consider these geographic risk factors. Expanding in states with fewer accidents could reduce exposure to operational risks. Meanwhile, if operations in high-accident states are necessary, enhanced safety measures, pilot training, and maintenance protocols should be prioritized to mitigate potential hazards."
   ]
  },
  {
   "cell_type": "markdown",
   "metadata": {},
   "source": [
    "# Conclusion and Next Steps"
   ]
  },
  {
   "cell_type": "markdown",
   "metadata": {},
   "source": [
    "a. Conclusion:  \n",
    "\n",
    "**Conclusion – Risk Analysis in Aviation (1982–2022)**\n",
    "\n",
    "Our analysis of aviation accident data in the United States from 1962 to 2022 reveals an overall improvement in aviation safety over time. The total number of accidents and injuries has decreased, partly due to technological advances, stricter regulations, and better training. However, these general trends must be nuanced by significant differences between manufacturers, aircraft types, flight conditions, and geographic areas.\n",
    "\n",
    "**🔎Key Takeaways:**\n",
    "\n",
    "**Overall decline in accidents:**  \n",
    "\n",
    "Between **2000 and 2022**, the number of accidents dropped from around **2,000 to 1,200.**\n",
    "\n",
    "The drop is especially sharp in **2020 (linked to COVID-19)**, but remains significant in the long run.\n",
    "\n",
    "Serious and fatal injuries follow a similar trajectory: skies are generally safer.   \n",
    "\n",
    "\n",
    "**High-risk manufacturers (frequent incidents):**\n",
    "\n",
    "Manufacturers such as Cessna and Piper account for the most accidents.Their high exposure is mainly due to their heavy presence in general aviation, including training, private flights, and light commercial use.\n",
    "However, their **severity rates are moderate (~0.47–0.61)**, suggesting that incidents are frequent but rarely severe.\n",
    "\n",
    "Low-frequency but high-severity manufacturers:\n",
    "\n",
    "Smaller manufacturers **(e.g., Gauchat, Pelt, Hillyer)** report very few accidents, but those tend to be more serious.\n",
    "\n",
    "Their severity rate can reach **2.0**, meaning one to two serious injuries or fatalities per accident — likely due to older fleets, poor maintenance, or lack of oversight.  \n",
    "\n",
    "**Special case: Boeing**\n",
    "\n",
    "Although less frequent in the dataset (due to its focus on commercial aviation), Boeing shows **the highest severity rate (2.49)**.Each Boeing-related incident tends to affect more people, given the aircraft capacity and nature of operations.  \n",
    "\n",
    "**Weather conditions:**  \n",
    "\n",
    "Most accidents, including the most serious ones, occur in good weather **(VMC)**. This challenges the assumption that bad weather is the main trigger.\n",
    "\n",
    "**IMC** accidents are more frequent among large operators — emphasizing the importance of training and advanced equipment.  \n",
    "\n",
    "**High-risk geographic zones:**\n",
    "\n",
    "States like **California, Texas, and Florida** account for a large share of accidents.\n",
    "\n",
    "While this may reflect higher aviation activity, these regions still present increased operational risk.\n"
   ]
  },
  {
   "cell_type": "markdown",
   "metadata": {},
   "source": [
    "# b. ✅ Recommendations for the Company \n",
    "\n",
    "Start with Cessna or Piper models: although frequently involved in accidents, they present lower per-accident risk and benefit from strong documentation and maintenance support.\n",
    "\n",
    "1. Avoid lesser-known small manufacturers: despite their low accident frequency, severity risk is higher, and safety standards may be less stringent.\n",
    "\n",
    "2. Strengthen pilot training for both VMC and IMC conditions, since most accidents occur in good weather — pointing to human error or technical failure.\n",
    "\n",
    "3. Prioritize operations in states with a lower accident history. If operations in California, Texas, or Florida are necessary, implement enhanced safety protocols.\n"
   ]
  },
  {
   "cell_type": "markdown",
   "metadata": {},
   "source": [
    "# c. 🚀 Next Steps\n",
    "\n",
    "Calculate accident rates per 1,000 flight hours or per 100 aircraft in service (if data is available) to enable fairer comparisons.\n",
    "\n",
    "Deepen analysis by aircraft model, not just manufacturer, to identify the most reliable specific aircraft.\n",
    "\n",
    "Study the most frequent accident causes (e.g., human error, mechanical failure, flight conditions) to pinpoint avoidable risks.\n",
    "\n",
    "Create a \"Severity x Frequency\" matrix to visualize trade-offs between accident frequency and severity, guiding aircraft purchasing decisions toward controlled-risk models.\n",
    "\n",
    "Analyze maintenance costs by manufacturer/model to align safety with economic sustainability.\n"
   ]
  },
  {
   "cell_type": "code",
   "execution_count": null,
   "metadata": {},
   "outputs": [],
   "source": []
  }
 ],
 "metadata": {
  "kernelspec": {
   "display_name": "Python (learn-env)",
   "language": "python",
   "name": "learn-env"
  },
  "language_info": {
   "codemirror_mode": {
    "name": "ipython",
    "version": 3
   },
   "file_extension": ".py",
   "mimetype": "text/x-python",
   "name": "python",
   "nbconvert_exporter": "python",
   "pygments_lexer": "ipython3",
   "version": "3.8.5"
  }
 },
 "nbformat": 4,
 "nbformat_minor": 4
}
